{
 "cells": [
  {
   "cell_type": "markdown",
   "metadata": {},
   "source": [
    "# Assignment 3\n",
    "\n",
    "# MAS DSE200"
   ]
  },
  {
   "cell_type": "markdown",
   "metadata": {},
   "source": [
    "## Instructions\n",
    "\n",
    "* Please submit **both** the pdf and ipynb files.\n",
    "* You don’t need to explain your approach (unless specified) so please be concise in your submission.\n",
    "* To obtain full marks for a question, both the answer and the code should be correct. \n",
    "* Completely wrong (or missing) code with correct answer will result in zero marks. \n",
    "* Please code the solution in the space provided."
   ]
  },
  {
   "cell_type": "markdown",
   "metadata": {},
   "source": [
    "### Imports"
   ]
  },
  {
   "cell_type": "code",
   "execution_count": 5,
   "metadata": {},
   "outputs": [],
   "source": [
    "import pandas as pd\n",
    "import numpy as np\n",
    "import random\n",
    "import matplotlib.pyplot as plt"
   ]
  },
  {
   "cell_type": "markdown",
   "metadata": {},
   "source": [
    "### Preliminaries\n",
    "\n",
    "Load the Formula1 cars data into a Pandas DataFrame called racecars_df."
   ]
  },
  {
   "cell_type": "code",
   "execution_count": 4,
   "metadata": {},
   "outputs": [],
   "source": [
    "racecars_df = pd.read_csv('./formula_one.csv', sep=',')"
   ]
  },
  {
   "cell_type": "markdown",
   "metadata": {},
   "source": [
    "### 1. Inspect data\n",
    "**Print the shape** of the racecars_df DataFrame. Then, **display the first 10 entries** in the racecars_df DataFrame to get an idea of what the columns are and what some values might look like."
   ]
  },
  {
   "cell_type": "code",
   "execution_count": null,
   "metadata": {},
   "outputs": [],
   "source": []
  },
  {
   "cell_type": "markdown",
   "metadata": {},
   "source": [
    "### 2. Exploratory Analysis: Missing Data    \n",
    "a) Please **report how many values are missing (null) in each column**.<br>"
   ]
  },
  {
   "cell_type": "code",
   "execution_count": null,
   "metadata": {},
   "outputs": [],
   "source": []
  },
  {
   "cell_type": "markdown",
   "metadata": {},
   "source": [
    "b) **Update racecars_df DataFrame by removing all rows that have any missing values** <br>\n",
    "Print the shape of the racecars_df DataFrame after the removal to confirm that the change took place."
   ]
  },
  {
   "cell_type": "code",
   "execution_count": null,
   "metadata": {},
   "outputs": [],
   "source": []
  },
  {
   "cell_type": "markdown",
   "metadata": {},
   "source": [
    "### 3. Engine powers of different cars\n",
    "\n",
    "Let's see what how the engine powers have evolved for the cars that have raced on this track. <br><br>\n",
    "3a) **Plot all the engine powers corresponding to the different cars**\n",
    "<ul>\n",
    "    <li>The x-axis is the car number(number column)</li>\n",
    "    <li>The y-axis is the engine power</li>\n",
    "    <li>Use either a scatter or line plot</li>\n",
    "    <li>Label <b>both</b> axes appropriately</li> \n",
    "    <li>Add an appropriate title</li>\n",
    "</ul>"
   ]
  },
  {
   "cell_type": "code",
   "execution_count": null,
   "metadata": {},
   "outputs": [],
   "source": []
  },
  {
   "cell_type": "markdown",
   "metadata": {},
   "source": [
    "3b) **Repeat part a**, but do it only for the **first 20 cars** in the dataset.<br>\n",
    "**Make sure that the values appearing on the x-axis are integers.**(Check out the documentation of plt.xticks.)"
   ]
  },
  {
   "cell_type": "code",
   "execution_count": null,
   "metadata": {},
   "outputs": [],
   "source": []
  },
  {
   "cell_type": "markdown",
   "metadata": {},
   "source": [
    "### 4.  Max Speed\n",
    "\n",
    "**How many cars** achieved maximum speed over 220 during their races? **What percentage** (up to 2 decimal places) of the total samples does this make up?"
   ]
  },
  {
   "cell_type": "code",
   "execution_count": null,
   "metadata": {},
   "outputs": [],
   "source": []
  },
  {
   "cell_type": "markdown",
   "metadata": {},
   "source": [
    "### 5. Driver weight distribution\n",
    "\n",
    "Build a histogram using all the driver weights from the dataset. \n",
    "\n",
    "The x-axis should have 10 bins (ranges that the driver weights fall into, also called buckets). To be explicit, if you give pyplot your list of driver weights and 10 bins to put them in, your x-axis should look like this: [40,50,60,70,80,90,100].\n",
    "\n",
    "\n",
    "<ul>\n",
    "    <li>The x-axis is the driver weight</li>\n",
    "    <li>The y-axis is the frequency</li>\n",
    "    <li>Label <b>both</b> axes appropriately</li> \n",
    "    <li>Add an appropriate title</li>\n",
    "</ul>"
   ]
  },
  {
   "cell_type": "code",
   "execution_count": null,
   "metadata": {},
   "outputs": [],
   "source": []
  },
  {
   "cell_type": "markdown",
   "metadata": {},
   "source": [
    "### 6. Engine Power vs Fuel efficiency\n",
    "**6a)** **Plot** the engine power vs fuel efficiency. \n",
    "\n",
    "<ul>\n",
    "    <li>The x-axis is the engine power</li>\n",
    "    <li>The y-axis is the fuel efficiency</li>\n",
    "    <li>Use a scatter plot</li>\n",
    "    <li>Label <b>both</b> axes appropriately</li> \n",
    "    <li>Add an appropriate title</li>\n",
    "</ul>"
   ]
  },
  {
   "cell_type": "code",
   "execution_count": null,
   "metadata": {},
   "outputs": [],
   "source": []
  },
  {
   "cell_type": "markdown",
   "metadata": {},
   "source": [
    "**6b)** **Calculate the correlation coefficients** of the same columns you plotted in part a."
   ]
  },
  {
   "cell_type": "code",
   "execution_count": null,
   "metadata": {},
   "outputs": [],
   "source": []
  },
  {
   "cell_type": "markdown",
   "metadata": {},
   "source": [
    "**6c)** In the markdown cell below, **write a couple sentences** that describe the relationship between engine power and fuel efficiency in this dataset. Talk about things like:\n",
    "<ul>\n",
    "    <li>Are they correlated?</li>\n",
    "    <li>Positively or negatively?</li>\n",
    "    <li>Is this correlation strong or weak?</li>\n",
    "</ul>"
   ]
  },
  {
   "cell_type": "markdown",
   "metadata": {},
   "source": [
    "*Respond here*\n",
    "\n",
    "\n"
   ]
  }
 ],
 "metadata": {
  "anaconda-cloud": {},
  "kernelspec": {
   "display_name": "Python 3",
   "language": "python",
   "name": "python3"
  },
  "language_info": {
   "codemirror_mode": {
    "name": "ipython",
    "version": 3
   },
   "file_extension": ".py",
   "mimetype": "text/x-python",
   "name": "python",
   "nbconvert_exporter": "python",
   "pygments_lexer": "ipython3",
   "version": "3.7.4"
  }
 },
 "nbformat": 4,
 "nbformat_minor": 4
}
