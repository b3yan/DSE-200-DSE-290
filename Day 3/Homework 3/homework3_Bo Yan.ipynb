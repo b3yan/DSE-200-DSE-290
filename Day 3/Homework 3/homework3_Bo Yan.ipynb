{
 "cells": [
  {
   "cell_type": "markdown",
   "metadata": {},
   "source": [
    "# Assignment 3\n",
    "\n",
    "# MAS DSE200"
   ]
  },
  {
   "cell_type": "markdown",
   "metadata": {},
   "source": [
    "## Instructions\n",
    "\n",
    "* Please submit **both** the pdf and ipynb files.\n",
    "* You don’t need to explain your approach (unless specified) so please be concise in your submission.\n",
    "* To obtain full marks for a question, both the answer and the code should be correct. \n",
    "* Completely wrong (or missing) code with correct answer will result in zero marks. \n",
    "* Please code the solution in the space provided."
   ]
  },
  {
   "cell_type": "markdown",
   "metadata": {},
   "source": [
    "### Imports"
   ]
  },
  {
   "cell_type": "code",
   "execution_count": 1,
   "metadata": {},
   "outputs": [],
   "source": [
    "import pandas as pd\n",
    "import numpy as np\n",
    "import random\n",
    "import matplotlib.pyplot as plt"
   ]
  },
  {
   "cell_type": "markdown",
   "metadata": {},
   "source": [
    "### Preliminaries\n",
    "\n",
    "Load the Formula1 cars data into a Pandas DataFrame called racecars_df."
   ]
  },
  {
   "cell_type": "code",
   "execution_count": 2,
   "metadata": {},
   "outputs": [],
   "source": [
    "racecars_df = pd.read_csv('./formula_one.csv', sep=',')"
   ]
  },
  {
   "cell_type": "markdown",
   "metadata": {},
   "source": [
    "### 1. Inspect data\n",
    "**Print the shape** of the racecars_df DataFrame. Then, **display the first 10 entries** in the racecars_df DataFrame to get an idea of what the columns are and what some values might look like."
   ]
  },
  {
   "cell_type": "code",
   "execution_count": 3,
   "metadata": {},
   "outputs": [
    {
     "name": "stdout",
     "output_type": "stream",
     "text": [
      "(1095, 6)\n"
     ]
    },
    {
     "data": {
      "text/html": [
       "<div>\n",
       "<style scoped>\n",
       "    .dataframe tbody tr th:only-of-type {\n",
       "        vertical-align: middle;\n",
       "    }\n",
       "\n",
       "    .dataframe tbody tr th {\n",
       "        vertical-align: top;\n",
       "    }\n",
       "\n",
       "    .dataframe thead th {\n",
       "        text-align: right;\n",
       "    }\n",
       "</style>\n",
       "<table border=\"1\" class=\"dataframe\">\n",
       "  <thead>\n",
       "    <tr style=\"text-align: right;\">\n",
       "      <th></th>\n",
       "      <th>number</th>\n",
       "      <th>max_car_speed</th>\n",
       "      <th>driver_weight</th>\n",
       "      <th>engine_power</th>\n",
       "      <th>fuel_efficiency</th>\n",
       "      <th>fuel_tank_capacity</th>\n",
       "    </tr>\n",
       "  </thead>\n",
       "  <tbody>\n",
       "    <tr>\n",
       "      <th>0</th>\n",
       "      <td>0</td>\n",
       "      <td>232.863283</td>\n",
       "      <td>76.822000</td>\n",
       "      <td>918.060000</td>\n",
       "      <td>90.363605</td>\n",
       "      <td>36.160000</td>\n",
       "    </tr>\n",
       "    <tr>\n",
       "      <th>1</th>\n",
       "      <td>1</td>\n",
       "      <td>205.533324</td>\n",
       "      <td>74.403843</td>\n",
       "      <td>917.356829</td>\n",
       "      <td>90.065810</td>\n",
       "      <td>19.426597</td>\n",
       "    </tr>\n",
       "    <tr>\n",
       "      <th>2</th>\n",
       "      <td>2</td>\n",
       "      <td>258.100967</td>\n",
       "      <td>63.638000</td>\n",
       "      <td>923.058282</td>\n",
       "      <td>92.189710</td>\n",
       "      <td>14.460000</td>\n",
       "    </tr>\n",
       "    <tr>\n",
       "      <th>3</th>\n",
       "      <td>3</td>\n",
       "      <td>249.190045</td>\n",
       "      <td>74.138895</td>\n",
       "      <td>920.530173</td>\n",
       "      <td>95.494480</td>\n",
       "      <td>12.742547</td>\n",
       "    </tr>\n",
       "    <tr>\n",
       "      <th>4</th>\n",
       "      <td>4</td>\n",
       "      <td>236.863283</td>\n",
       "      <td>47.294000</td>\n",
       "      <td>921.196563</td>\n",
       "      <td>94.535457</td>\n",
       "      <td>76.740000</td>\n",
       "    </tr>\n",
       "    <tr>\n",
       "      <th>5</th>\n",
       "      <td>5</td>\n",
       "      <td>233.983375</td>\n",
       "      <td>79.404000</td>\n",
       "      <td>915.345704</td>\n",
       "      <td>88.678473</td>\n",
       "      <td>33.930000</td>\n",
       "    </tr>\n",
       "    <tr>\n",
       "      <th>6</th>\n",
       "      <td>6</td>\n",
       "      <td>239.589632</td>\n",
       "      <td>74.043304</td>\n",
       "      <td>915.653712</td>\n",
       "      <td>91.585075</td>\n",
       "      <td>21.385657</td>\n",
       "    </tr>\n",
       "    <tr>\n",
       "      <th>7</th>\n",
       "      <td>7</td>\n",
       "      <td>218.646212</td>\n",
       "      <td>54.710000</td>\n",
       "      <td>918.133985</td>\n",
       "      <td>90.441205</td>\n",
       "      <td>74.920000</td>\n",
       "    </tr>\n",
       "    <tr>\n",
       "      <th>8</th>\n",
       "      <td>8</td>\n",
       "      <td>246.883152</td>\n",
       "      <td>83.582000</td>\n",
       "      <td>920.153126</td>\n",
       "      <td>93.551053</td>\n",
       "      <td>24.030000</td>\n",
       "    </tr>\n",
       "    <tr>\n",
       "      <th>9</th>\n",
       "      <td>9</td>\n",
       "      <td>227.576604</td>\n",
       "      <td>51.498000</td>\n",
       "      <td>915.092267</td>\n",
       "      <td>89.763146</td>\n",
       "      <td>68.050000</td>\n",
       "    </tr>\n",
       "  </tbody>\n",
       "</table>\n",
       "</div>"
      ],
      "text/plain": [
       "   number  max_car_speed  driver_weight  engine_power  fuel_efficiency  \\\n",
       "0       0     232.863283      76.822000    918.060000        90.363605   \n",
       "1       1     205.533324      74.403843    917.356829        90.065810   \n",
       "2       2     258.100967      63.638000    923.058282        92.189710   \n",
       "3       3     249.190045      74.138895    920.530173        95.494480   \n",
       "4       4     236.863283      47.294000    921.196563        94.535457   \n",
       "5       5     233.983375      79.404000    915.345704        88.678473   \n",
       "6       6     239.589632      74.043304    915.653712        91.585075   \n",
       "7       7     218.646212      54.710000    918.133985        90.441205   \n",
       "8       8     246.883152      83.582000    920.153126        93.551053   \n",
       "9       9     227.576604      51.498000    915.092267        89.763146   \n",
       "\n",
       "   fuel_tank_capacity  \n",
       "0           36.160000  \n",
       "1           19.426597  \n",
       "2           14.460000  \n",
       "3           12.742547  \n",
       "4           76.740000  \n",
       "5           33.930000  \n",
       "6           21.385657  \n",
       "7           74.920000  \n",
       "8           24.030000  \n",
       "9           68.050000  "
      ]
     },
     "execution_count": 3,
     "metadata": {},
     "output_type": "execute_result"
    }
   ],
   "source": [
    "print(racecars_df.shape)\n",
    "racecars_df.head(10)"
   ]
  },
  {
   "cell_type": "markdown",
   "metadata": {},
   "source": [
    "### 2. Exploratory Analysis: Missing Data    \n",
    "a) Please **report how many values are missing (null) in each column**.<br>"
   ]
  },
  {
   "cell_type": "code",
   "execution_count": 4,
   "metadata": {},
   "outputs": [
    {
     "data": {
      "text/plain": [
       "number                0\n",
       "max_car_speed         4\n",
       "driver_weight         5\n",
       "engine_power          3\n",
       "fuel_efficiency       3\n",
       "fuel_tank_capacity    0\n",
       "dtype: int64"
      ]
     },
     "execution_count": 4,
     "metadata": {},
     "output_type": "execute_result"
    }
   ],
   "source": [
    "racecars_df.isnull().sum()"
   ]
  },
  {
   "cell_type": "markdown",
   "metadata": {},
   "source": [
    "b) **Update racecars_df DataFrame by removing all rows that have any missing values** <br>\n",
    "Print the shape of the racecars_df DataFrame after the removal to confirm that the change took place."
   ]
  },
  {
   "cell_type": "code",
   "execution_count": 5,
   "metadata": {},
   "outputs": [
    {
     "name": "stdout",
     "output_type": "stream",
     "text": [
      "Dimensions before removing null values:  (1095, 6)\n",
      "Dimensions after removing null values:   (1083, 6)\n"
     ]
    }
   ],
   "source": [
    "print(\"Dimensions before removing null values: \", racecars_df.shape)\n",
    "\n",
    "racecars_df.dropna(inplace=True)   # NOTE: Original racecars_df is overwritten\n",
    "print(\"Dimensions after removing null values:  \", racecars_df.shape)"
   ]
  },
  {
   "cell_type": "markdown",
   "metadata": {},
   "source": [
    "### 3. Engine powers of different cars\n",
    "\n",
    "Let's see what how the engine powers have evolved for the cars that have raced on this track. <br><br>\n",
    "3a) **Plot all the engine powers corresponding to the different cars**\n",
    "<ul>\n",
    "    <li>The x-axis is the car number(number column)</li>\n",
    "    <li>The y-axis is the engine power</li>\n",
    "    <li>Use either a scatter or line plot</li>\n",
    "    <li>Label <b>both</b> axes appropriately</li> \n",
    "    <li>Add an appropriate title</li>\n",
    "</ul>"
   ]
  },
  {
   "cell_type": "code",
   "execution_count": 6,
   "metadata": {},
   "outputs": [
    {
     "data": {
      "image/png": "[encoded data removed]",
      "text/plain": [
       "<Figure size 432x288 with 1 Axes>"
      ]
     },
     "metadata": {
      "needs_background": "light"
     },
     "output_type": "display_data"
    }
   ],
   "source": [
    "plt.scatter(x=racecars_df['number'], y=racecars_df['engine_power'])\n",
    "plt.title('Car Number vs. Engine Power')\n",
    "plt.xlabel('Car Numnber')\n",
    "plt.ylabel('Engine Power')\n",
    "plt.show()"
   ]
  },
  {
   "cell_type": "markdown",
   "metadata": {},
   "source": [
    "3b) **Repeat part a**, but do it only for the **first 20 cars** in the dataset.<br>\n",
    "**Make sure that the values appearing on the x-axis are integers.**(Check out the documentation of plt.xticks.)"
   ]
  },
  {
   "cell_type": "code",
   "execution_count": 7,
   "metadata": {},
   "outputs": [
    {
     "data": {
      "image/png": "[encoded data removed]",
      "text/plain": [
       "<Figure size 432x288 with 1 Axes>"
      ]
     },
     "metadata": {
      "needs_background": "light"
     },
     "output_type": "display_data"
    }
   ],
   "source": [
    "new_racecars_df = racecars_df.head(20)\n",
    "\n",
    "plt.scatter(x=new_racecars_df['number'], y=new_racecars_df['engine_power'])\n",
    "plt.title('Car Number vs. Engine Power')\n",
    "plt.xlabel('Car Numnber')\n",
    "plt.ylabel('Engine Power')\n",
    "plt.xticks(np.arange(0, 21))\n",
    "plt.show()"
   ]
  },
  {
   "cell_type": "markdown",
   "metadata": {},
   "source": [
    "### 4.  Max Speed\n",
    "\n",
    "**How many cars** achieved maximum speed over 220 during their races? **What percentage** (up to 2 decimal places) of the total samples does this make up?"
   ]
  },
  {
   "cell_type": "code",
   "execution_count": 8,
   "metadata": {},
   "outputs": [
    {
     "name": "stdout",
     "output_type": "stream",
     "text": [
      "783 cars achieved maximum speed over 220 during their races.\n",
      "This makes up 72.30% of the total sample.\n"
     ]
    }
   ],
   "source": [
    "cars = len(racecars_df[racecars_df.max_car_speed>220])\n",
    "print(cars, 'cars achieved maximum speed over 220 during their races.')\n",
    "\n",
    "percentage = cars/len(racecars_df)*100\n",
    "round_percentage = \"%.2f\" % round(percentage,2)\n",
    "print (\"This makes up {}% of the total sample.\".format(round_percentage))"
   ]
  },
  {
   "cell_type": "markdown",
   "metadata": {},
   "source": [
    "### 5. Driver weight distribution\n",
    "\n",
    "Build a histogram using all the driver weights from the dataset. \n",
    "\n",
    "The x-axis should have 10 bins (ranges that the driver weights fall into, also called buckets). To be explicit, if you give pyplot your list of driver weights and 10 bins to put them in, your x-axis should look like this: [40,50,60,70,80,90,100].\n",
    "\n",
    "\n",
    "<ul>\n",
    "    <li>The x-axis is the driver weight</li>\n",
    "    <li>The y-axis is the frequency</li>\n",
    "    <li>Label <b>both</b> axes appropriately</li> \n",
    "    <li>Add an appropriate title</li>\n",
    "</ul>"
   ]
  },
  {
   "cell_type": "code",
   "execution_count": 9,
   "metadata": {},
   "outputs": [
    {
     "data": {
      "image/png": "[encoded data removed]",
      "text/plain": [
       "<Figure size 432x288 with 1 Axes>"
      ]
     },
     "metadata": {
      "needs_background": "light"
     },
     "output_type": "display_data"
    }
   ],
   "source": [
    "plt.hist(racecars_df['driver_weight'], bins=10)\n",
    "plt.title(\"Histogram of Driver Weight over Frenquency\")\n",
    "plt.xlabel(\"Driver Weight\")\n",
    "plt.ylabel(\"Frequency\")\n",
    "plt.show()"
   ]
  },
  {
   "cell_type": "markdown",
   "metadata": {},
   "source": [
    "### 6. Engine Power vs Fuel efficiency\n",
    "**6a)** **Plot** the engine power vs fuel efficiency. \n",
    "\n",
    "<ul>\n",
    "    <li>The x-axis is the engine power</li>\n",
    "    <li>The y-axis is the fuel efficiency</li>\n",
    "    <li>Use a scatter plot</li>\n",
    "    <li>Label <b>both</b> axes appropriately</li> \n",
    "    <li>Add an appropriate title</li>\n",
    "</ul>"
   ]
  },
  {
   "cell_type": "code",
   "execution_count": 10,
   "metadata": {},
   "outputs": [
    {
     "data": {
      "image/png": "[encoded data removed]",
      "text/plain": [
       "<Figure size 432x288 with 1 Axes>"
      ]
     },
     "metadata": {
      "needs_background": "light"
     },
     "output_type": "display_data"
    }
   ],
   "source": [
    "plt.scatter(x=racecars_df['engine_power'], y=racecars_df['fuel_efficiency'])\n",
    "plt.title('Engine Power vs. Fuel efficiency')\n",
    "plt.xlabel('Engine Power')\n",
    "plt.ylabel('Fuel efficiency')\n",
    "plt.show()"
   ]
  },
  {
   "cell_type": "markdown",
   "metadata": {},
   "source": [
    "**6b)** **Calculate the correlation coefficients** of the same columns you plotted in part a."
   ]
  },
  {
   "cell_type": "code",
   "execution_count": 11,
   "metadata": {},
   "outputs": [
    {
     "data": {
      "text/plain": [
       "array([[1.        , 0.44694707],\n",
       "       [0.44694707, 1.        ]])"
      ]
     },
     "execution_count": 11,
     "metadata": {},
     "output_type": "execute_result"
    }
   ],
   "source": [
    "np.corrcoef(racecars_df['engine_power'],racecars_df['fuel_efficiency'])"
   ]
  },
  {
   "cell_type": "markdown",
   "metadata": {},
   "source": [
    "**6c)** In the markdown cell below, **write a couple sentences** that describe the relationship between engine power and fuel efficiency in this dataset. Talk about things like:\n",
    "<ul>\n",
    "    <li>Are they correlated?</li>\n",
    "    <li>Positively or negatively?</li>\n",
    "    <li>Is this correlation strong or weak?</li>\n",
    "</ul>"
   ]
  },
  {
   "cell_type": "markdown",
   "metadata": {},
   "source": [
    "*Respond here*\n",
    "\n",
    "\n"
   ]
  },
  {
   "cell_type": "code",
   "execution_count": 12,
   "metadata": {},
   "outputs": [
    {
     "name": "stdout",
     "output_type": "stream",
     "text": [
      "Yes, they are correlated.\n",
      "Positively.\n",
      "This correlation is weak.\n"
     ]
    }
   ],
   "source": [
    "print('Yes, they are correlated.')\n",
    "print('Positively.')\n",
    "print('This correlation is weak.')"
   ]
  },
  {
   "cell_type": "code",
   "execution_count": null,
   "metadata": {},
   "outputs": [],
   "source": []
  }
 ],
 "metadata": {
  "anaconda-cloud": {},
  "kernelspec": {
   "display_name": "Python 3",
   "language": "python",
   "name": "python3"
  },
  "language_info": {
   "codemirror_mode": {
    "name": "ipython",
    "version": 3
   },
   "file_extension": ".py",
   "mimetype": "text/x-python",
   "name": "python",
   "nbconvert_exporter": "python",
   "pygments_lexer": "ipython3",
   "version": "3.8.5"
  }
 },
 "nbformat": 4,
 "nbformat_minor": 4
}
