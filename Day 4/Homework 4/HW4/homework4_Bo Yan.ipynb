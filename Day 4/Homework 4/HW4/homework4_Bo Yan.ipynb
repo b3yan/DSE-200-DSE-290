{
 "cells": [
  {
   "cell_type": "markdown",
   "metadata": {},
   "source": [
    "# Assignment 4\n",
    "\n",
    "# MAS DSE200"
   ]
  },
  {
   "cell_type": "markdown",
   "metadata": {},
   "source": [
    "## Instructions\n",
    "\n",
    "* You don’t need to explain your approach (unless specified) so please be concise in your submission. \n",
    "* To obtain full marks for a question, both the answer and the code should be correct. \n",
    "* Completely wrong (or missing) code with correct answer will result in zero marks. \n",
    "* Please code the solution in the space provided.<br><br>\n",
    "* Code output format is specified like this when applicable\n",
    "<i style='color:blue'>\n",
    "* Output Required:\n",
    "    * datatype or format -- description\n",
    "    * datatype or format -- description\n",
    "    *  ...\n",
    "</i>"
   ]
  },
  {
   "cell_type": "markdown",
   "metadata": {},
   "source": [
    "### Imports"
   ]
  },
  {
   "cell_type": "code",
   "execution_count": 1,
   "metadata": {},
   "outputs": [],
   "source": [
    "import pandas as pd\n",
    "import numpy as np\n",
    "import random\n",
    "import matplotlib.pyplot as plt\n",
    "import json\n",
    "from math import pi\n",
    "\n",
    "%matplotlib inline"
   ]
  },
  {
   "cell_type": "markdown",
   "metadata": {},
   "source": [
    "### Company Revenue Data\n",
    "\n",
    "#### Fields\n",
    "* Store Number(corresponds to the county)\n",
    "\n",
    "Categories of consumer goods:\n",
    "* Convenience\n",
    "* Shopping\n",
    "* Specialty\n",
    "* Unsought\n",
    "* Other\n",
    "\n",
    "Investment data\n",
    "#### Fields\n",
    "* State Code\n",
    "* County Code\n",
    "* Name\n",
    "* Percentage Investment"
   ]
  },
  {
   "cell_type": "markdown",
   "metadata": {},
   "source": [
    "Your task in this section is to show how the investments made by the company in different places affected its sale of consumer goods\n",
    "\n",
    "It is an open-ended task. We are looking to see whether you can visualize the data and identify trends."
   ]
  },
  {
   "cell_type": "code",
   "execution_count": 2,
   "metadata": {},
   "outputs": [
    {
     "name": "stdout",
     "output_type": "stream",
     "text": [
      "DataFrame for consumer goods data: (14052, 7)\n",
      "DataFrame for investment data: (3194, 4)\n",
      "                 Name  Store Number  Convenience  Shopping  Specialty  \\\n",
      "0      AUTAUGA COUNTY          1001        80867      7447      53842   \n",
      "1      BALDWIN COUNTY          1003       338236     23710     145180   \n",
      "2      BARBOUR COUNTY          1005        10116      2342       5434   \n",
      "3        EUFAULA CITY          1005        26182      3558      15900   \n",
      "4         BIBB COUNTY          1007        32486      3664      21846   \n",
      "...               ...           ...          ...       ...        ...   \n",
      "14047       UINTA CO6         56041        13832       500       8471   \n",
      "14048       WASHAKIE2         56043         3726       258       2429   \n",
      "14049    WASHAKIE CO1         56043        25693      1594      17718   \n",
      "14050      WESTON CO1         56045        15935       999       9977   \n",
      "14051      WESTON CO7         56045         6803       219       5125   \n",
      "\n",
      "       Unsought   Other  \n",
      "0         19578   76672  \n",
      "1        169346  299880  \n",
      "2          2340   10070  \n",
      "3          6724   29843  \n",
      "4          6976   31662  \n",
      "...         ...     ...  \n",
      "14047      4861   13441  \n",
      "14048      1039    3557  \n",
      "14049      6381   25240  \n",
      "14050      4959   16276  \n",
      "14051      1459    6670  \n",
      "\n",
      "[14052 rows x 7 columns]\n",
      "      State Code  County Code               Name Percentage Investment\n",
      "0              0            0      United States                    14\n",
      "1              1           10            Alabama                  17.2\n",
      "2              1           11     Autauga County                  13.5\n",
      "3              1           13     Baldwin County                  11.7\n",
      "4              1           15     Barbour County                  29.9\n",
      "...          ...          ...                ...                   ...\n",
      "3189          56         5637  Sweetwater County                   9.8\n",
      "3190          56         5639       Teton County                   7.3\n",
      "3191          56         5641       Uinta County                  10.6\n",
      "3192          56         5643    Washakie County                  13.1\n",
      "3193          56         5645      Weston County                  10.7\n",
      "\n",
      "[3194 rows x 4 columns]\n"
     ]
    }
   ],
   "source": [
    "consumer_goods_df = pd.read_csv(\"consumer_goods.csv\")\n",
    "investments_df = pd.read_csv(\"investments.csv\")\n",
    "print(\"DataFrame for consumer goods data:\", consumer_goods_df.shape)\n",
    "print(\"DataFrame for investment data:\", investments_df.shape)\n",
    "print(consumer_goods_df)\n",
    "print(investments_df)"
   ]
  },
  {
   "cell_type": "markdown",
   "metadata": {},
   "source": [
    "## Part 1: Clustering (consumer goods data)\n",
    "\n",
    "We will perform cluster analysis on counties using their consumer goods sales figures.\n",
    "This uses `consumer_goods_df` defined above"
   ]
  },
  {
   "cell_type": "markdown",
   "metadata": {},
   "source": [
    "### 1.0 Some Visualization \n",
    "Generate a histogram plot with 100 bins of the Convenience consumer goods (in the `Convenience` column) of `consumer_goods_df` to get a sense of the items sold in this category. What is the maximum number of items sold in this category and at which store(find the `Name` of the store)?"
   ]
  },
  {
   "cell_type": "code",
   "execution_count": 3,
   "metadata": {},
   "outputs": [
    {
     "data": {
      "image/png": "[encoded data removed]",
      "text/plain": [
       "<Figure size 432x288 with 1 Axes>"
      ]
     },
     "metadata": {
      "needs_background": "light"
     },
     "output_type": "display_data"
    },
    {
     "name": "stdout",
     "output_type": "stream",
     "text": [
      "Maximum number: 27448356 \n",
      "\n",
      "8378    NEW YORK CITY\n",
      "Name: Name, dtype: object\n"
     ]
    }
   ],
   "source": [
    "# Please notice that the histogram only reflects the original dataframe.\n",
    "# We can use plt.xlim() and plt.ylim() to set ranges, and plt.rcParas[\"figure.figsize\"] to set the figure size for better visualization.\n",
    "\n",
    "plt.hist(consumer_goods_df['Convenience'], bins=100)\n",
    "plt.title(\"Histogram of Convenience over Frenquency\")\n",
    "plt.xlabel(\"Convenience\")\n",
    "plt.ylabel(\"Frenquency\")\n",
    "plt.grid()\n",
    "plt.show()\n",
    "\n",
    "max_number = consumer_goods_df['Convenience'].max()\n",
    "print('Maximum number:', max_number, '\\n')\n",
    "\n",
    "store_name = consumer_goods_df[consumer_goods_df['Convenience'] == max_number].Name\n",
    "print(store_name)"
   ]
  },
  {
   "cell_type": "markdown",
   "metadata": {},
   "source": [
    "### 1.1 Data \n",
    "Print the DataFrame's shape as well as it's first few entries. Remove null entries(if any). \n",
    "\n",
    "\n",
    "<i style='color:blue'>\n",
    "<ul><li>Output Required:<ul>\n",
    "    <li>tuple     -- DataFrame's shape</li>\n",
    "    <li>DataFrame -- The head of the `consumer_goods_df` DataFrame</li>\n",
    "    <li>Yes/No  -- Were there any missing values? If yes, remove them.</li>\n",
    "</ul></li></ul>\n",
    "</i>"
   ]
  },
  {
   "cell_type": "code",
   "execution_count": 4,
   "metadata": {},
   "outputs": [
    {
     "name": "stdout",
     "output_type": "stream",
     "text": [
      "DataFrame's shape for consumer goods data:\n",
      " (14052, 7) \n",
      "\n",
      "The head of the consumer goods data:\n",
      "              Name  Store Number  Convenience  Shopping  Specialty  Unsought  \\\n",
      "0  AUTAUGA COUNTY          1001        80867      7447      53842     19578   \n",
      "1  BALDWIN COUNTY          1003       338236     23710     145180    169346   \n",
      "2  BARBOUR COUNTY          1005        10116      2342       5434      2340   \n",
      "3    EUFAULA CITY          1005        26182      3558      15900      6724   \n",
      "4     BIBB COUNTY          1007        32486      3664      21846      6976   \n",
      "\n",
      "    Other  \n",
      "0   76672  \n",
      "1  299880  \n",
      "2   10070  \n",
      "3   29843  \n",
      "4   31662   \n",
      "\n",
      "Name            False\n",
      "Store Number    False\n",
      "Convenience     False\n",
      "Shopping        False\n",
      "Specialty       False\n",
      "Unsought        False\n",
      "Other           False\n",
      "dtype: bool \n",
      "\n",
      "No, there were no missing values.\n"
     ]
    }
   ],
   "source": [
    "df_shape = consumer_goods_df.shape\n",
    "print(\"DataFrame's shape for consumer goods data:\\n\", df_shape, \"\\n\")\n",
    "\n",
    "df_head = consumer_goods_df.head()\n",
    "print(\"The head of the consumer goods data:\\n\", df_head, \"\\n\")\n",
    "\n",
    "null_entries = consumer_goods_df.isnull().any()\n",
    "print(null_entries, \"\\n\")\n",
    "\n",
    "has_null_entries = consumer_goods_df[\"Name\"].isnull().any() or consumer_goods_df[\"Store Number\"].isnull().any() or consumer_goods_df[\"Convenience\"].isnull().any() or consumer_goods_df[\"Shopping\"].isnull().any() or consumer_goods_df[\"Specialty\"].isnull().any() or consumer_goods_df[\"Unsought\"].isnull().any() or consumer_goods_df[\"Other\"].isnull().any()\n",
    "\n",
    "if has_null_entries == False :\n",
    "    print(\"No, there were no missing values.\")\n",
    "else:\n",
    "    consumer_goods_df.dropna()\n",
    "    print(\"Yes, there were missing values.\")"
   ]
  },
  {
   "cell_type": "markdown",
   "metadata": {},
   "source": [
    "### 1.2 Features - 2 points\n",
    "\n",
    "We'll now construct a new DataFrame containing only the features we want to use for clustering.<br>\n",
    "**Start by creating a copy of consumer_goods_df** using DataFrame.copy so that you have an unaltered copy of the original. <br>\n",
    "Then, **drop the these columns**: `Name`, `Store number`.<br>\n",
    "You must then **normalize the data.** <br><br>\n",
    "\n",
    "\n",
    "<i style='color:blue'>\n",
    "<ul><li>Output Required:<ul>\n",
    "        <li>tuple     -- DataFrame's shape</li>\n",
    "        <li>DataFrame -- The head of the DataFrame</li>\n",
    "</ul></li></ul>"
   ]
  },
  {
   "cell_type": "code",
   "execution_count": 5,
   "metadata": {},
   "outputs": [
    {
     "name": "stdout",
     "output_type": "stream",
     "text": [
      "DataFrame's shape:\n",
      " (14052, 5) \n",
      "\n",
      "The head of the DataFrame:\n",
      "    Convenience  Shopping  Specialty  Unsought   Other\n",
      "0        80867      7447      53842     19578   76672\n",
      "1       338236     23710     145180    169346  299880\n",
      "2        10116      2342       5434      2340   10070\n",
      "3        26182      3558      15900      6724   29843\n",
      "4        32486      3664      21846      6976   31662 \n",
      "\n",
      "The normalized data:\n",
      " [[0.64424539 0.05932822 0.42894457 0.1559726  0.61082497]\n",
      " [0.67026846 0.04698514 0.28769727 0.33558605 0.59425994]\n",
      " [0.64730914 0.14986141 0.3477143  0.14973343 0.64436566]\n",
      " ...\n",
      " [0.63168135 0.03918967 0.43561009 0.15688159 0.62054401]\n",
      " [0.62794519 0.03936726 0.39316029 0.19541765 0.64138287]\n",
      " [0.62307529 0.02005784 0.4693901  0.13362735 0.61089404]]\n"
     ]
    }
   ],
   "source": [
    "from sklearn import preprocessing\n",
    "\n",
    "copy_of_consumer_goods_df = consumer_goods_df.copy()\n",
    "new_df = copy_of_consumer_goods_df.drop(['Name','Store Number'], axis=1)\n",
    "\n",
    "ndf_shape = new_df.shape\n",
    "print(\"DataFrame's shape:\\n\", ndf_shape, \"\\n\")\n",
    "\n",
    "ndf_head = new_df.head()\n",
    "print(\"The head of the DataFrame:\\n\", ndf_head, \"\\n\")\n",
    "\n",
    "normalized = preprocessing.normalize(new_df)\n",
    "print(\"The normalized data:\\n\", normalized)"
   ]
  },
  {
   "cell_type": "markdown",
   "metadata": {},
   "source": [
    "### 1.3 KMeans Clustering\n",
    "\n",
    "Define a model using <a href='http://scikit-learn.org/stable/modules/generated/sklearn.cluster.KMeans.html'>sklearn.cluster.kmeans</a><br>\n",
    "**Pick any value for the number of clusters for now. When you finish all parts to this question, you can come back and experiment.**<br>\n",
    "Print the model to see all the parameter values.<br>\n",
    "Then, fit the model to your normalized data. <br>\n",
    "Print the resulting cluster centers.<br><br>\n",
    "\n",
    "\n",
    "<i style='color:blue'>\n",
    "<ul><li>Output Required:<ul>\n",
    "        <li>Initialized K-Means model; shows all parameter values</li>\n",
    "        <li>list -- Cluster centers from fitted model</li>\n",
    "</ul></li></ul>"
   ]
  },
  {
   "cell_type": "code",
   "execution_count": 6,
   "metadata": {},
   "outputs": [
    {
     "data": {
      "image/png": "[encoded data removed]",
      "text/plain": [
       "<Figure size 720x576 with 1 Axes>"
      ]
     },
     "metadata": {
      "needs_background": "light"
     },
     "output_type": "display_data"
    },
    {
     "name": "stdout",
     "output_type": "stream",
     "text": [
      "The best elbow (n_clusters) is 4 \n",
      "\n",
      "model:\n",
      " KMeans(n_clusters=4) \n",
      "\n",
      "Cluster centers:\n",
      " [[ 0.18457379  0.02538606  0.6935022  -0.60581811 -0.05632878]\n",
      " [ 0.04730002 -0.39063467 -1.02338108  1.13347718 -0.28966734]\n",
      " [ 0.55972929  4.03425884 -0.66335451 -0.73988017 -0.08130627]\n",
      " [-2.99077546 -0.28587337 -0.56794602 -0.32466326  2.85240191]] \n",
      "\n"
     ]
    },
    {
     "data": {
      "image/png": "[encoded data removed]",
      "text/plain": [
       "<Figure size 720x576 with 1 Axes>"
      ]
     },
     "metadata": {
      "needs_background": "light"
     },
     "output_type": "display_data"
    }
   ],
   "source": [
    "from sklearn.cluster import KMeans\n",
    "from sklearn.preprocessing import StandardScaler\n",
    "from kneed import KneeLocator, DataGenerator\n",
    "\n",
    "X_input = StandardScaler().fit_transform(normalized)\n",
    "\n",
    "# plot the elbow method\n",
    "wcss = []\n",
    "for i in range(1, 11):\n",
    "    kmeans_p = KMeans(n_clusters=i, init='k-means++', max_iter=300, n_init=10, random_state=0)\n",
    "    kmeans_p.fit(X_input)\n",
    "    wcss.append(kmeans_p.inertia_)\n",
    "plt.figure(figsize=(10,8))\n",
    "plt.subplot(2, 1, 1)\n",
    "plt.plot(range(1, 11), wcss)\n",
    "plt.title('Elbow Method')\n",
    "plt.xlabel('Number of clusters')\n",
    "plt.ylabel('WCSS')\n",
    "plt.grid()\n",
    "plt.tight_layout()\n",
    "plt.show()\n",
    "\n",
    "# find the best elbow\n",
    "kl = KneeLocator(range(1, 11), wcss, curve=\"convex\", direction=\"decreasing\")\n",
    "elbow = kl.elbow\n",
    "print(\"The best elbow (n_clusters) is\", elbow, \"\\n\")\n",
    "\n",
    "# print the model, fit the model to the normalized data\n",
    "kmeans = KMeans(n_clusters = elbow)\n",
    "model = kmeans.fit(X_input)\n",
    "print(\"model:\\n\", model, \"\\n\")\n",
    "\n",
    "# print the resulting cluster centers\n",
    "centers = model.cluster_centers_\n",
    "print(\"Cluster centers:\\n\", centers, \"\\n\")\n",
    "\n",
    "predict = kmeans.predict(X_input)\n",
    "\n",
    "plt.figure(figsize=(10,8))\n",
    "plt.subplot(2, 1, 2)\n",
    "plt.scatter(X_input[:, 0], X_input[:, 1], c=predict, s=50, cmap='viridis')\n",
    "plt.scatter(centers[:, 0], centers[:, 1], c='black', s=200, alpha=0.5);"
   ]
  },
  {
   "cell_type": "markdown",
   "metadata": {},
   "source": [
    "### 1.4 Visualize and Analyze Cluster Centers\n",
    "**a)**\n",
    "Create a Pandas DataFrame containing all the cluster centers.<br>\n",
    "You'll need to add a column titled 'cluster' containing the ID of the cluster. A cluster's ID is its index in the list you printed in **1.3**. Note that this process is shown in the k-means clustering notebook.<br>\n",
    "Print the entire resulting DataFrame.<br>\n",
    "\n",
    "\n",
    "<i style='color:blue'>\n",
    "<ul><li>Output Required:<ul>\n",
    "        <li>DataFrame -- Cluster centers dataframe<ul>\n",
    "            <li>Columns should be: Convenience, Shopping, Specialty, Unsought, Other, cluster</li></ul>\n",
    "        </li>\n",
    "</ul></li></ul>"
   ]
  },
  {
   "cell_type": "code",
   "execution_count": 7,
   "metadata": {},
   "outputs": [
    {
     "name": "stdout",
     "output_type": "stream",
     "text": [
      "   Convenience  Shopping  Specialty  Unsought     Other  cluster\n",
      "0     0.184574  0.025386   0.693502 -0.605818 -0.056329        0\n",
      "1     0.047300 -0.390635  -1.023381  1.133477 -0.289667        1\n",
      "2     0.559729  4.034259  -0.663355 -0.739880 -0.081306        2\n",
      "3    -2.990775 -0.285873  -0.567946 -0.324663  2.852402        3\n"
     ]
    }
   ],
   "source": [
    "# Function that creates a DataFrame with a column for Cluster Number\n",
    "\n",
    "def pd_centers(featuresUsed, centers):\n",
    "\tcolNames = list(featuresUsed)\n",
    "\tcolNames.append('cluster')\n",
    "\n",
    "\t# Zip with a column called 'cluster' (index)\n",
    "\tZ = [np.append(A, index) for index, A in enumerate(centers)]\n",
    "\n",
    "\t# Convert to pandas data frame for plotting\n",
    "\tP = pd.DataFrame(Z, columns=colNames)\n",
    "\tP['cluster'] = P['cluster'].astype(int)\n",
    "\treturn P\n",
    "    \n",
    "features = ['Convenience', 'Shopping', 'Specialty', 'Unsought', 'Other']\n",
    "P = pd_centers(features, centers)\n",
    "print(P)"
   ]
  },
  {
   "cell_type": "markdown",
   "metadata": {},
   "source": [
    "**b)**\n",
    "Plot the resulting centers. \n",
    "\n",
    "<i style='color:blue'>\n",
    "<ul><li>Output Required:<ul>\n",
    "        <li>Parallel plot like the one in 12_WeatherDataClusteringUsing-k-Means.ipynb</li>\n",
    "</ul></li></ul>"
   ]
  },
  {
   "cell_type": "code",
   "execution_count": 8,
   "metadata": {},
   "outputs": [
    {
     "data": {
      "image/png": "[encoded data removed]",
      "text/plain": [
       "<Figure size 1080x576 with 1 Axes>"
      ]
     },
     "metadata": {
      "needs_background": "light"
     },
     "output_type": "display_data"
    }
   ],
   "source": [
    "from itertools import cycle, islice\n",
    "from pandas.plotting import parallel_coordinates\n",
    "\n",
    "# Function that creates Parallel Plots\n",
    "\n",
    "def parallel_plot(data):\n",
    "\tmy_colors = list(islice(cycle(['b', 'r', 'g', 'y', 'k']), None, len(data)))\n",
    "\tplt.figure(figsize=(15,8)).gca().axes.set_ylim([-6,+6])\n",
    "\tparallel_coordinates(data, 'cluster', color = my_colors, marker='o')\n",
    "\n",
    "parallel_plot(P)"
   ]
  },
  {
   "cell_type": "markdown",
   "metadata": {},
   "source": [
    "**c)**\n",
    "Create a new DataFrame by adding a `cluster` column to the original `consumer_goods_df` DataFrame. This is a convenient way of storing what cluster each sample belongs to.<br>\n",
    "There are multiple ways of getting cluster ID's for each sample from our mode, read the <a href='http://scikit-learn.org/stable/modules/generated/sklearn.cluster.KMeans.html'>docs</a> for ideas. Get these labels and concatenate them as a new column onto `consumer_goods_df`.<br><br>\n",
    "Print the DataFrame's shape and head.<br><br>\n",
    "\n",
    "\n",
    "<i style='color:blue'>\n",
    "<ul><li>Output Required:<ul>\n",
    "        <li>(tuple) DataFrame's shape</li>\n",
    "        <li>(DataFrame) The head of the DataFrame; should have cluster column</li>\n",
    "</ul></li></ul>"
   ]
  },
  {
   "cell_type": "code",
   "execution_count": 9,
   "metadata": {},
   "outputs": [
    {
     "name": "stdout",
     "output_type": "stream",
     "text": [
      "DataFrame's shape for new consumer goods data:\n",
      " (14052, 8) \n",
      "\n",
      "The head of the new consumer goods data:\n",
      "              Name  Store Number  Convenience  Shopping  Specialty  Unsought  \\\n",
      "0  AUTAUGA COUNTY          1001        80867      7447      53842     19578   \n",
      "1  BALDWIN COUNTY          1003       338236     23710     145180    169346   \n",
      "2  BARBOUR COUNTY          1005        10116      2342       5434      2340   \n",
      "3    EUFAULA CITY          1005        26182      3558      15900      6724   \n",
      "4     BIBB COUNTY          1007        32486      3664      21846      6976   \n",
      "\n",
      "    Other  cluster  \n",
      "0   76672        0  \n",
      "1  299880        1  \n",
      "2   10070        0  \n",
      "3   29843        0  \n",
      "4   31662        0   \n",
      "\n"
     ]
    }
   ],
   "source": [
    "new_consumer_goods_df = consumer_goods_df.copy()\n",
    "\n",
    "predict_data = kmeans.predict(X_input)\n",
    "new_consumer_goods_df['cluster'] = predict_data\n",
    "\n",
    "new_df_shape = new_consumer_goods_df.shape\n",
    "print(\"DataFrame's shape for new consumer goods data:\\n\", new_df_shape, \"\\n\")\n",
    "\n",
    "new_df_head = new_consumer_goods_df.head()\n",
    "print(\"The head of the new consumer goods data:\\n\", new_df_head, \"\\n\")"
   ]
  },
  {
   "cell_type": "markdown",
   "metadata": {},
   "source": [
    "**d)**\n",
    "Print the size of each cluster (number of samples classified as that cluster) using the DataFrame created in **c**\n",
    "\n",
    "\n",
    "<i style='color:blue'>\n",
    "<ul><li>Output Required:<ul>\n",
    "        <li>(ints) A cluster ID and cluster size per cluster</li>\n",
    "</ul></li></ul>"
   ]
  },
  {
   "cell_type": "code",
   "execution_count": 10,
   "metadata": {},
   "outputs": [
    {
     "name": "stdout",
     "output_type": "stream",
     "text": [
      "Cluster ID = 0 Cluster Size = 8104\n",
      "Cluster ID = 1 Cluster Size = 4823\n",
      "Cluster ID = 3 Cluster Size = 663\n",
      "Cluster ID = 2 Cluster Size = 462\n"
     ]
    }
   ],
   "source": [
    "label_list = new_consumer_goods_df[\"cluster\"].to_list()\n",
    "unique_list = new_consumer_goods_df[\"cluster\"].unique()\n",
    "    \n",
    "for i in range(0,len(unique_list)):\n",
    "    counter = 0\n",
    "    for j in range(0, len(label_list)):\n",
    "        if label_list[j] == unique_list[i]:\n",
    "            counter += 1\n",
    "    print(\"Cluster ID =\", unique_list[i], \"Cluster Size =\", counter)"
   ]
  },
  {
   "cell_type": "markdown",
   "metadata": {},
   "source": [
    "### 1.5 Experiments (Open Ended)\n",
    "Return to **1.3** and try different values for k (n_clusters). Observe how your choice in k affects your results in **1.4**. Once you've tried a few different values, pick the one that you think is \"best\" and leave that as your argument when you submit this assignment. In this question, write a short paragraph explaining your observations and why you chose the k you did. Use these questions to guide your explanation. \n",
    "\n",
    "\n",
    "<i style='color:blue'>\n",
    "<ul><li>Output: Paragraph that answers these questions:<ul>\n",
    "        <li>How did different values of k affect cluster sizes?</li>        \n",
    "        <li>What k worked best?</li>\n",
    "        <li>What does best really mean here, though?</li>\n",
    "</ul></li></ul>"
   ]
  },
  {
   "cell_type": "markdown",
   "metadata": {},
   "source": [
    "--- respond here ---"
   ]
  },
  {
   "cell_type": "code",
   "execution_count": 11,
   "metadata": {},
   "outputs": [
    {
     "name": "stdout",
     "output_type": "stream",
     "text": [
      "Different values of k lead to different cluster size per cluster.\n",
      "The bigger the k, the smaller the cluster size per cluster.\n",
      "\n",
      "k = 4 worked best.\n",
      "\n",
      "It means that it is the optimal number of clusters.\n",
      "(k = 4) is the one that maximizes the average silhouette over a range of possible values for k.\n",
      "The results show that 4 clusters maximize the average silhouette values.\n",
      "\n"
     ]
    }
   ],
   "source": [
    "print(\"Different values of k lead to different cluster size per cluster.\\nThe bigger the k, the smaller the cluster size per cluster.\\n\")\n",
    "print(\"k = 4 worked best.\\n\")\n",
    "print(\"It means that it is the optimal number of clusters.\\n(k = 4) is the one that maximizes the average silhouette over a range of possible values for k.\\nThe results show that 4 clusters maximize the average silhouette values.\\n\")  \n"
   ]
  },
  {
   "cell_type": "markdown",
   "metadata": {},
   "source": [
    "## Part 2: Regression (Consumer Goods Data and Investments Data)\n",
    "\n",
    "We will perform linear regression to use our financial data to predict projected investments."
   ]
  },
  {
   "cell_type": "markdown",
   "metadata": {},
   "source": [
    "### 2.1 Merge Datasets\n",
    "We'll be using the `Percentage Investment` column from `investments_df` as our label.<br>\n",
    "In order to associate these labels with the correct counties, we must merge our two DataFrames using the county code.<br><br>\n",
    "\n",
    "Use `consumer_goods_df`'s `Store Number` column and `investments_df`'s `County Code` column to merge the DataFrames.<br><br> Your end goal is to produce a DataFrame with the columns:<br> `Store Number`, `Convenience`, `Shopping`, `Specialty`, `Unsought`, `Other`, `Percentage Investment`<br>\n",
    "It's important to inspect the head of the merged DataFrame before dropping the columns not listed above. This way, you can reassure yourself you merged the DataFrames properly.<br><br>\n",
    "\n",
    "<i style='color:blue'>\n",
    "<ul><li>Output Required:<ul>\n",
    "        <li>tuple     -- DataFrame's shape</li>\n",
    "        <li>DataFrame -- The head of the DataFrame (either with all the columns or just the ones listed above)</li>\n",
    "</ul></li></ul>"
   ]
  },
  {
   "cell_type": "code",
   "execution_count": 12,
   "metadata": {},
   "outputs": [
    {
     "name": "stdout",
     "output_type": "stream",
     "text": [
      "DataFrame's shape:\n",
      " (4636, 7) \n",
      "\n",
      "The head of the data:\n",
      "    Store Number  Convenience  Shopping  Specialty  Unsought   Other  \\\n",
      "0          1101       301121     42712     169038     89371  296474   \n",
      "1          1101         9473       326       5276      3871    8943   \n",
      "2          1103        99476      9576      45791     44109  109323   \n",
      "3          1103        78919      6537      41600     30782   81220   \n",
      "4          1103        30401      1588      17791     11022   29601   \n",
      "\n",
      "  Percentage Investment  \n",
      "0                  18.8  \n",
      "1                  18.8  \n",
      "2                  15.8  \n",
      "3                  15.8  \n",
      "4                  15.8   \n",
      "\n"
     ]
    }
   ],
   "source": [
    "result = pd.merge(consumer_goods_df,\n",
    "                 investments_df[[\"Percentage Investment\", \"County Code\"]],\n",
    "                 how = \"inner\",\n",
    "                 left_on = \"Store Number\",\n",
    "                 right_on = \"County Code\")\n",
    "\n",
    "result_df = result.drop([\"Name\", \"County Code\"],1)\n",
    "\n",
    "rdf_shape = result_df.shape\n",
    "print(\"DataFrame's shape:\\n\", rdf_shape, \"\\n\")\n",
    "\n",
    "rdf_head = result_df.head()\n",
    "print(\"The head of the data:\\n\", rdf_head, \"\\n\")"
   ]
  },
  {
   "cell_type": "markdown",
   "metadata": {},
   "source": [
    "### 2.2 Train and test split\n",
    "Shuffle your data and then partition it into an 80%/20% train/test split.<br>\n",
    "Then, split up your train and test into a features DataFrame (X_train/X_test) and a labels DataFrame (y_train/y_test)<br>\n",
    "X_train and X_test should have these columns: `Convenience`, `Shopping`, `Specialty`, `Unsought`, `Other`<br>\n",
    "y_train and y_test should have this column: `Percentage Investment`<br>\n",
    "<br><br> \n",
    "\n",
    "\n",
    "<i style='color:blue'>\n",
    "<ul><li>Output Required:<ul>\n",
    "        <li>tuple -- X_train DataFrame shape</li>\n",
    "        <li>tuple -- y_train DataFrame shape</li>\n",
    "        <li>tuple -- X_test DataFrame shape</li>    \n",
    "        <li>tuple -- y_test DataFrame shape</li>\n",
    "</ul></li></ul>"
   ]
  },
  {
   "cell_type": "code",
   "execution_count": 13,
   "metadata": {},
   "outputs": [
    {
     "name": "stdout",
     "output_type": "stream",
     "text": [
      "X_train DataFrame shape (3708, 5)\n",
      "y_train DataFrame shape (3708, 1)\n",
      "X_test DataFrame shape (928, 5)\n",
      "y_test DataFrame shape (928, 1)\n"
     ]
    }
   ],
   "source": [
    "from sklearn.utils import shuffle\n",
    "from sklearn.model_selection import train_test_split\n",
    "\n",
    "features = ['Convenience', 'Shopping', 'Specialty', 'Unsought', 'Other']\n",
    "target = ['Percentage Investment']\n",
    "\n",
    "new_result_df = result_df.dropna()\n",
    "\n",
    "X_input = new_result_df[features]\n",
    "y_target = new_result_df[target]\n",
    "\n",
    "X_train, X_test, y_train, y_test = train_test_split(X_input, y_target, test_size=0.2, train_size=0.8, random_state=324)\n",
    "\n",
    "xtrain_shape = X_train.shape\n",
    "print('X_train DataFrame shape', xtrain_shape)\n",
    "\n",
    "ytrain_shape = y_train.shape\n",
    "print('y_train DataFrame shape', ytrain_shape)\n",
    "\n",
    "xtest_shape = X_test.shape\n",
    "print('X_test DataFrame shape', xtest_shape)\n",
    "\n",
    "ytest_shape = y_test.shape\n",
    "print('y_test DataFrame shape', ytest_shape)"
   ]
  },
  {
   "cell_type": "markdown",
   "metadata": {},
   "source": [
    "### 2.3 Fit a regressor\n",
    "**a)**\n",
    "Create a <a href=\"http://scikit-learn.org/stable/modules/generated/sklearn.linear_model.LinearRegression.html\">linear regression model</a> and fit it to your training dataset.<br>\n",
    "\n",
    "<i style='color:blue'>\n",
    "    <ul>\n",
    "        <li>No output necessary</li>\n",
    "    </ul>\n",
    "</i>"
   ]
  },
  {
   "cell_type": "code",
   "execution_count": 14,
   "metadata": {},
   "outputs": [
    {
     "data": {
      "text/plain": [
       "LinearRegression()"
      ]
     },
     "execution_count": 14,
     "metadata": {},
     "output_type": "execute_result"
    }
   ],
   "source": [
    "from sklearn.linear_model import LinearRegression\n",
    "from sklearn.metrics import mean_squared_error\n",
    "from math import sqrt\n",
    "from sklearn.preprocessing import StandardScaler\n",
    "\n",
    "regressor = LinearRegression()\n",
    "regressor.fit(X_train, y_train)"
   ]
  },
  {
   "cell_type": "markdown",
   "metadata": {},
   "source": [
    "**b)**\n",
    "Use your model to predict on your test set. Report the RMSE.\n",
    "\n",
    "<i style='color:blue'>\n",
    "<ul><li>Output: Paragraph that answers these questions:<ul>\n",
    "    <li>float -- RMSE</li>\n",
    "</ul></li></ul>"
   ]
  },
  {
   "cell_type": "code",
   "execution_count": 15,
   "metadata": {},
   "outputs": [
    {
     "name": "stdout",
     "output_type": "stream",
     "text": [
      "RMSE = 5.229033811705091 \n",
      "\n",
      "RMSE (Root Mean Square Error) is the standard deviation of the residuals (prediction errors).\n",
      "It tells you how concentrated the data is around the line of best fit.\n",
      "It is commonly used in climatology, forecasting, and regression analysis to verify experimental results.\n",
      "Lower values of RMSE indicate better fit.\n",
      "RMSE is a good measure of how accurately the model predicts the response, and it is the most important criterion for fit if the main purpose of the model is prediction.\n",
      "\n"
     ]
    }
   ],
   "source": [
    "y_prediction = regressor.predict(X_test)\n",
    "RMSE = sqrt(mean_squared_error(y_true = y_test, y_pred = y_prediction))\n",
    "print(\"RMSE =\", RMSE, \"\\n\")\n",
    "print('RMSE (Root Mean Square Error) is the standard deviation of the residuals (prediction errors).\\nIt tells you how concentrated the data is around the line of best fit.\\nIt is commonly used in climatology, forecasting, and regression analysis to verify experimental results.\\nLower values of RMSE indicate better fit.\\nRMSE is a good measure of how accurately the model predicts the response, and it is the most important criterion for fit if the main purpose of the model is prediction.\\n')"
   ]
  },
  {
   "cell_type": "code",
   "execution_count": null,
   "metadata": {},
   "outputs": [],
   "source": []
  }
 ],
 "metadata": {
  "anaconda-cloud": {},
  "kernelspec": {
   "display_name": "Python 3",
   "language": "python",
   "name": "python3"
  },
  "language_info": {
   "codemirror_mode": {
    "name": "ipython",
    "version": 3
   },
   "file_extension": ".py",
   "mimetype": "text/x-python",
   "name": "python",
   "nbconvert_exporter": "python",
   "pygments_lexer": "ipython3",
   "version": "3.8.5"
  },
  "nbTranslate": {
   "displayLangs": [
    "*"
   ],
   "hotkey": "alt-t",
   "langInMainMenu": true,
   "sourceLang": "en",
   "targetLang": "fr",
   "useGoogleTranslate": true
  },
  "toc": {
   "base_numbering": 1,
   "nav_menu": {},
   "number_sections": true,
   "sideBar": true,
   "skip_h1_title": false,
   "title_cell": "Table of Contents",
   "title_sidebar": "Contents",
   "toc_cell": false,
   "toc_position": {},
   "toc_section_display": true,
   "toc_window_display": false
  },
  "varInspector": {
   "cols": {
    "lenName": 16,
    "lenType": 16,
    "lenVar": 40
   },
   "kernels_config": {
    "python": {
     "delete_cmd_postfix": "",
     "delete_cmd_prefix": "del ",
     "library": "var_list.py",
     "varRefreshCmd": "print(var_dic_list())"
    },
    "r": {
     "delete_cmd_postfix": ") ",
     "delete_cmd_prefix": "rm(",
     "library": "var_list.r",
     "varRefreshCmd": "cat(var_dic_list()) "
    }
   },
   "types_to_exclude": [
    "module",
    "function",
    "builtin_function_or_method",
    "instance",
    "_Feature"
   ],
   "window_display": false
  }
 },
 "nbformat": 4,
 "nbformat_minor": 4
}
