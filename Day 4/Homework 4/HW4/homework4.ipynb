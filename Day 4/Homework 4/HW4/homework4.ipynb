{
 "cells": [
  {
   "cell_type": "markdown",
   "metadata": {},
   "source": [
    "# Assignment 4\n",
    "\n",
    "# MAS DSE200"
   ]
  },
  {
   "cell_type": "markdown",
   "metadata": {},
   "source": [
    "## Instructions\n",
    "\n",
    "* You don’t need to explain your approach (unless specified) so please be concise in your submission. \n",
    "* To obtain full marks for a question, both the answer and the code should be correct. \n",
    "* Completely wrong (or missing) code with correct answer will result in zero marks. \n",
    "* Please code the solution in the space provided.<br><br>\n",
    "* Code output format is specified like this when applicable\n",
    "<i style='color:blue'>\n",
    "* Output Required:\n",
    "    * datatype or format -- description\n",
    "    * datatype or format -- description\n",
    "    *  ...\n",
    "</i>"
   ]
  },
  {
   "cell_type": "markdown",
   "metadata": {},
   "source": [
    "### Imports"
   ]
  },
  {
   "cell_type": "code",
   "execution_count": 1,
   "metadata": {},
   "outputs": [],
   "source": [
    "import pandas as pd\n",
    "import numpy as np\n",
    "import random\n",
    "import matplotlib.pyplot as plt\n",
    "import json\n",
    "from math import pi\n",
    "\n",
    "%matplotlib inline"
   ]
  },
  {
   "cell_type": "markdown",
   "metadata": {},
   "source": [
    "### Company Revenue Data\n",
    "\n",
    "#### Fields\n",
    "* Store Number(corresponds to the county)\n",
    "\n",
    "Categories of consumer goods:\n",
    "* Convenience\n",
    "* Shopping\n",
    "* Specialty\n",
    "* Unsought\n",
    "* Other\n",
    "\n",
    "Investment data\n",
    "#### Fields\n",
    "* State Code\n",
    "* County Code\n",
    "* Name\n",
    "* Percentage Investment"
   ]
  },
  {
   "cell_type": "markdown",
   "metadata": {},
   "source": [
    "Your task in this section is to show how the investments made by the company in different places affected its sale of consumer goods\n",
    "\n",
    "It is an open-ended task. We are looking to see whether you can visualize the data and identify trends."
   ]
  },
  {
   "cell_type": "code",
   "execution_count": 2,
   "metadata": {},
   "outputs": [
    {
     "name": "stdout",
     "output_type": "stream",
     "text": [
      "DataFrame for consumer goods data: (14052, 7)\n",
      "DataFrame for investment data: (3194, 4)\n",
      "                 Name  Store Number  Convenience  Shopping  Specialty  \\\n",
      "0      AUTAUGA COUNTY          1001        80867      7447      53842   \n",
      "1      BALDWIN COUNTY          1003       338236     23710     145180   \n",
      "2      BARBOUR COUNTY          1005        10116      2342       5434   \n",
      "3        EUFAULA CITY          1005        26182      3558      15900   \n",
      "4         BIBB COUNTY          1007        32486      3664      21846   \n",
      "...               ...           ...          ...       ...        ...   \n",
      "14047       UINTA CO6         56041        13832       500       8471   \n",
      "14048       WASHAKIE2         56043         3726       258       2429   \n",
      "14049    WASHAKIE CO1         56043        25693      1594      17718   \n",
      "14050      WESTON CO1         56045        15935       999       9977   \n",
      "14051      WESTON CO7         56045         6803       219       5125   \n",
      "\n",
      "       Unsought   Other  \n",
      "0         19578   76672  \n",
      "1        169346  299880  \n",
      "2          2340   10070  \n",
      "3          6724   29843  \n",
      "4          6976   31662  \n",
      "...         ...     ...  \n",
      "14047      4861   13441  \n",
      "14048      1039    3557  \n",
      "14049      6381   25240  \n",
      "14050      4959   16276  \n",
      "14051      1459    6670  \n",
      "\n",
      "[14052 rows x 7 columns]\n",
      "      State Code  County Code               Name Percentage Investment\n",
      "0              0            0      United States                    14\n",
      "1              1           10            Alabama                  17.2\n",
      "2              1           11     Autauga County                  13.5\n",
      "3              1           13     Baldwin County                  11.7\n",
      "4              1           15     Barbour County                  29.9\n",
      "...          ...          ...                ...                   ...\n",
      "3189          56         5637  Sweetwater County                   9.8\n",
      "3190          56         5639       Teton County                   7.3\n",
      "3191          56         5641       Uinta County                  10.6\n",
      "3192          56         5643    Washakie County                  13.1\n",
      "3193          56         5645      Weston County                  10.7\n",
      "\n",
      "[3194 rows x 4 columns]\n"
     ]
    }
   ],
   "source": [
    "consumer_goods_df = pd.read_csv(\"consumer_goods.csv\")\n",
    "investments_df = pd.read_csv(\"investments.csv\")\n",
    "print(\"DataFrame for consumer goods data:\", consumer_goods_df.shape)\n",
    "print(\"DataFrame for investment data:\", investments_df.shape)\n",
    "print(consumer_goods_df)\n",
    "print(investments_df)"
   ]
  },
  {
   "cell_type": "markdown",
   "metadata": {},
   "source": [
    "## Part 1: Clustering (consumer goods data)\n",
    "\n",
    "We will perform cluster analysis on counties using their consumer goods sales figures.\n",
    "This uses `consumer_goods_df` defined above"
   ]
  },
  {
   "cell_type": "markdown",
   "metadata": {},
   "source": [
    "### 1.0 Some Visualization \n",
    "Generate a histogram plot with 100 bins of the Convenience consumer goods (in the `Convenience` column) of `consumer_goods_df` to get a sense of the items sold in this category. What is the maximum number of items sold in this category and at which store(find the `Name` of the store)?"
   ]
  },
  {
   "cell_type": "code",
   "execution_count": null,
   "metadata": {},
   "outputs": [],
   "source": []
  },
  {
   "cell_type": "markdown",
   "metadata": {},
   "source": [
    "### 1.1 Data \n",
    "Print the DataFrame's shape as well as it's first few entries. Remove null entries(if any). \n",
    "\n",
    "\n",
    "<i style='color:blue'>\n",
    "<ul><li>Output Required:<ul>\n",
    "    <li>tuple     -- DataFrame's shape</li>\n",
    "    <li>DataFrame -- The head of the `consumer_goods_df` DataFrame</li>\n",
    "    <li>Yes/No  -- Were there any missing values? If yes, remove them.</li>\n",
    "</ul></li></ul>\n",
    "</i>"
   ]
  },
  {
   "cell_type": "code",
   "execution_count": null,
   "metadata": {},
   "outputs": [],
   "source": []
  },
  {
   "cell_type": "markdown",
   "metadata": {},
   "source": [
    "### 1.2 Features - 2 points\n",
    "\n",
    "We'll now construct a new DataFrame containing only the features we want to use for clustering.<br>\n",
    "**Start by creating a copy of consumer_goods_df** using DataFrame.copy so that you have an unaltered copy of the original. <br>\n",
    "Then, **drop the these columns**: `Name`, `Store number`.<br>\n",
    "You must then **normalize the data.** <br><br>\n",
    "\n",
    "\n",
    "<i style='color:blue'>\n",
    "<ul><li>Output Required:<ul>\n",
    "        <li>tuple     -- DataFrame's shape</li>\n",
    "        <li>DataFrame -- The head of the DataFrame</li>\n",
    "</ul></li></ul>"
   ]
  },
  {
   "cell_type": "code",
   "execution_count": null,
   "metadata": {},
   "outputs": [],
   "source": []
  },
  {
   "cell_type": "markdown",
   "metadata": {},
   "source": [
    "### 1.3 KMeans Clustering\n",
    "\n",
    "Define a model using <a href='http://scikit-learn.org/stable/modules/generated/sklearn.cluster.KMeans.html'>sklearn.cluster.kmeans</a><br>\n",
    "**Pick any value for the number of clusters for now. When you finish all parts to this question, you can come back and experiment.**<br>\n",
    "Print the model to see all the parameter values.<br>\n",
    "Then, fit the model to your normalized data. <br>\n",
    "Print the resulting cluster centers.<br><br>\n",
    "\n",
    "\n",
    "<i style='color:blue'>\n",
    "<ul><li>Output Required:<ul>\n",
    "        <li>Initialized K-Means model; shows all parameter values</li>\n",
    "        <li>list -- Cluster centers from fitted model</li>\n",
    "</ul></li></ul>"
   ]
  },
  {
   "cell_type": "code",
   "execution_count": null,
   "metadata": {},
   "outputs": [],
   "source": [
    "from sklearn.cluster import KMeans\n"
   ]
  },
  {
   "cell_type": "markdown",
   "metadata": {},
   "source": [
    "### 1.4 Visualize and Analyze Cluster Centers\n",
    "**a)**\n",
    "Create a Pandas DataFrame containing all the cluster centers.<br>\n",
    "You'll need to add a column titled 'cluster' containing the ID of the cluster. A cluster's ID is its index in the list you printed in **1.3**. Note that this process is shown in the k-means clustering notebook.<br>\n",
    "Print the entire resulting DataFrame.<br>\n",
    "\n",
    "\n",
    "<i style='color:blue'>\n",
    "<ul><li>Output Required:<ul>\n",
    "        <li>DataFrame -- Cluster centers dataframe<ul>\n",
    "            <li>Columns should be: Convenience, Shopping, Specialty, Unsought, Other, cluster</li></ul>\n",
    "        </li>\n",
    "</ul></li></ul>"
   ]
  },
  {
   "cell_type": "code",
   "execution_count": null,
   "metadata": {},
   "outputs": [],
   "source": []
  },
  {
   "cell_type": "markdown",
   "metadata": {},
   "source": [
    "**b)**\n",
    "Plot the resulting centers. \n",
    "\n",
    "<i style='color:blue'>\n",
    "<ul><li>Output Required:<ul>\n",
    "        <li>Parallel plot like the one in 12_WeatherDataClusteringUsing-k-Means.ipynb</li>\n",
    "</ul></li></ul>"
   ]
  },
  {
   "cell_type": "code",
   "execution_count": null,
   "metadata": {},
   "outputs": [],
   "source": [
    "from itertools import cycle, islice\n",
    "from pandas.plotting import parallel_coordinates\n"
   ]
  },
  {
   "cell_type": "markdown",
   "metadata": {},
   "source": [
    "**c)**\n",
    "Create a new DataFrame by adding a `cluster` column to the original `consumer_goods_df` DataFrame. This is a convenient way of storing what cluster each sample belongs to.<br>\n",
    "There are multiple ways of getting cluster ID's for each sample from our mode, read the <a href='http://scikit-learn.org/stable/modules/generated/sklearn.cluster.KMeans.html'>docs</a> for ideas. Get these labels and concatenate them as a new column onto `consumer_goods_df`.<br><br>\n",
    "Print the DataFrame's shape and head.<br><br>\n",
    "\n",
    "\n",
    "<i style='color:blue'>\n",
    "<ul><li>Output Required:<ul>\n",
    "        <li>(tuple) DataFrame's shape</li>\n",
    "        <li>(DataFrame) The head of the DataFrame; should have cluster column</li>\n",
    "</ul></li></ul>"
   ]
  },
  {
   "cell_type": "code",
   "execution_count": null,
   "metadata": {},
   "outputs": [],
   "source": []
  },
  {
   "cell_type": "markdown",
   "metadata": {},
   "source": [
    "**d)**\n",
    "Print the size of each cluster (number of samples classified as that cluster) using the DataFrame created in **c**\n",
    "\n",
    "\n",
    "<i style='color:blue'>\n",
    "<ul><li>Output Required:<ul>\n",
    "        <li>(ints) A cluster ID and cluster size per cluster</li>\n",
    "</ul></li></ul>"
   ]
  },
  {
   "cell_type": "code",
   "execution_count": null,
   "metadata": {},
   "outputs": [],
   "source": []
  },
  {
   "cell_type": "markdown",
   "metadata": {},
   "source": [
    "### 1.5 Experiments (Open Ended)\n",
    "Return to **1.3** and try different values for k (n_clusters). Observe how your choice in k affects your results in **1.4**. Once you've tried a few different values, pick the one that you think is \"best\" and leave that as your argument when you submit this assignment. In this question, write a short paragraph explaining your observations and why you chose the k you did. Use these questions to guide your explanation. \n",
    "\n",
    "\n",
    "<i style='color:blue'>\n",
    "<ul><li>Output: Paragraph that answers these questions:<ul>\n",
    "        <li>How did different values of k affect cluster sizes?</li>        \n",
    "        <li>What k worked best?</li>\n",
    "        <li>What does best really mean here, though?</li>\n",
    "</ul></li></ul>"
   ]
  },
  {
   "cell_type": "markdown",
   "metadata": {},
   "source": [
    "--- respond here ---"
   ]
  },
  {
   "cell_type": "markdown",
   "metadata": {},
   "source": [
    "## Part 2: Regression (Consumer Goods Data and Investments Data)\n",
    "\n",
    "We will perform linear regression to use our financial data to predict projected investments."
   ]
  },
  {
   "cell_type": "markdown",
   "metadata": {},
   "source": [
    "### 2.1 Merge Datasets\n",
    "We'll be using the `Percentage Investment` column from `investments_df` as our label.<br>\n",
    "In order to associate these labels with the correct counties, we must merge our two DataFrames using the county code.<br><br>\n",
    "\n",
    "Use `consumer_goods_df`'s `Store Number` column and `investments_df`'s `County Code` column to merge the DataFrames.<br><br> Your end goal is to produce a DataFrame with the columns:<br> `Store Number`, `Convenience`, `Shopping`, `Specialty`, `Unsought`, `Other`, `Percentage Investment`<br>\n",
    "It's important to inspect the head of the merged DataFrame before dropping the columns not listed above. This way, you can reassure yourself you merged the DataFrames properly.<br><br>\n",
    "\n",
    "<i style='color:blue'>\n",
    "<ul><li>Output Required:<ul>\n",
    "        <li>tuple     -- DataFrame's shape</li>\n",
    "        <li>DataFrame -- The head of the DataFrame (either with all the columns or just the ones listed above)</li>\n",
    "</ul></li></ul>"
   ]
  },
  {
   "cell_type": "code",
   "execution_count": null,
   "metadata": {},
   "outputs": [],
   "source": []
  },
  {
   "cell_type": "markdown",
   "metadata": {},
   "source": [
    "### 2.2 Train and test split\n",
    "Shuffle your data and then partition it into an 80%/20% train/test split.<br>\n",
    "Then, split up your train and test into a features DataFrame (X_train/X_test) and a labels DataFrame (y_train/y_test)<br>\n",
    "X_train and X_test should have these columns: `Convenience`, `Shopping`, `Specialty`, `Unsought`, `Other`<br>\n",
    "y_train and y_test should have this column: `Percentage Investment`<br>\n",
    "<br><br> \n",
    "\n",
    "\n",
    "<i style='color:blue'>\n",
    "<ul><li>Output Required:<ul>\n",
    "        <li>tuple -- X_train DataFrame shape</li>\n",
    "        <li>tuple -- y_train DataFrame shape</li>\n",
    "        <li>tuple -- X_test DataFrame shape</li>    \n",
    "        <li>tuple -- y_test DataFrame shape</li>\n",
    "</ul></li></ul>"
   ]
  },
  {
   "cell_type": "code",
   "execution_count": null,
   "metadata": {},
   "outputs": [],
   "source": [
    "from sklearn.utils import shuffle\n"
   ]
  },
  {
   "cell_type": "markdown",
   "metadata": {},
   "source": [
    "### 2.3 Fit a regressor\n",
    "**a)**\n",
    "Create a <a href=\"http://scikit-learn.org/stable/modules/generated/sklearn.linear_model.LinearRegression.html\">linear regression model</a> and fit it to your training dataset.<br>\n",
    "\n",
    "<i style='color:blue'>\n",
    "    <ul>\n",
    "        <li>No output necessary</li>\n",
    "    </ul>\n",
    "</i>"
   ]
  },
  {
   "cell_type": "code",
   "execution_count": null,
   "metadata": {},
   "outputs": [],
   "source": [
    "from sklearn.linear_model import LinearRegression\n",
    "from sklearn.metrics import mean_squared_error\n",
    "from math import sqrt\n",
    "from sklearn.preprocessing import StandardScaler\n"
   ]
  },
  {
   "cell_type": "markdown",
   "metadata": {},
   "source": [
    "**b)**\n",
    "Use your model to predict on your test set. Report the RMSE.\n",
    "\n",
    "<i style='color:blue'>\n",
    "<ul><li>Output: Paragraph that answers these questions:<ul>\n",
    "    <li>float -- RMSE</li>\n",
    "</ul></li></ul>"
   ]
  },
  {
   "cell_type": "code",
   "execution_count": null,
   "metadata": {},
   "outputs": [],
   "source": []
  },
  {
   "cell_type": "code",
   "execution_count": null,
   "metadata": {},
   "outputs": [],
   "source": []
  }
 ],
 "metadata": {
  "anaconda-cloud": {},
  "kernelspec": {
   "display_name": "Python 3",
   "language": "python",
   "name": "python3"
  },
  "language_info": {
   "codemirror_mode": {
    "name": "ipython",
    "version": 3
   },
   "file_extension": ".py",
   "mimetype": "text/x-python",
   "name": "python",
   "nbconvert_exporter": "python",
   "pygments_lexer": "ipython3",
   "version": "3.8.5"
  }
 },
 "nbformat": 4,
 "nbformat_minor": 4
}
