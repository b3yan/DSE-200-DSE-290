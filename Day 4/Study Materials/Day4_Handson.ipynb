{
 "cells": [
  {
   "cell_type": "markdown",
   "metadata": {},
   "source": [
    "<p style=\"font-family: Arial; font-size:1.75em;color:purple; font-style:bold\"><br>\n",
    "Hands-on Practice with Pandas and Matplotlib</p>\n",
    "\n"
   ]
  },
  {
   "cell_type": "code",
   "execution_count": 1,
   "metadata": {},
   "outputs": [],
   "source": [
    "import matplotlib.pyplot as plt\n",
    "import pandas as pd\n",
    "import numpy as np\n",
    "from math import pi\n",
    "\n",
    "%matplotlib inline"
   ]
  },
  {
   "cell_type": "markdown",
   "metadata": {},
   "source": [
    "<p style=\"font-family: Arial; font-size:1.3em;color:purple; font-style:bold\"><br>\n",
    "1: Get the data and inspect it</p>\n",
    " \n",
    "**Load the data** into a Pandas Dataframe. **Inspect all the columns**, and <b>read the data dictionary <a href=\"https://www.kaggle.com/c/titanic/data\">on Kaggle</a></b> to understand their meaning. **Print the shape of the dataframe and its head**.\n",
    "\n",
    "To avoid confusion, note that this isn't the exact same dataset from Kaggle. Kaggle just has a nicely formatted data dictionary.  The dataset we're using (<a href=\"http://biostat.mc.vanderbilt.edu/wiki/Main/DataSets\">source</a>) includes data on all available passengers as well as their lables. Kaggle's version does not, for reasons you can guess. "
   ]
  },
  {
   "cell_type": "code",
   "execution_count": 2,
   "metadata": {},
   "outputs": [],
   "source": [
    "titanic = pd.read_csv(\"./titanic_data.csv\")\n",
    "# TODO: print shape and head"
   ]
  },
  {
   "cell_type": "markdown",
   "metadata": {},
   "source": [
    "<p style=\"font-family: Arial; font-size:1.3em;color:purple; font-style:bold\"><br>\n",
    "2: Clean the data</p>\n",
    "\n",
    "Next, we want to remove rows with null values, as usual. However, first it may be a good idea to see if there are any columns that we can get rid of. Two reasons for wanting to do this are:<br>\n",
    "1. If any columns have way too many NaN values, we should get rid of these. If we don't, we'll frivolously remove rows that only have NaN's in these columns, which we don't want to do.\n",
    "2. Not all columns provide valuable information anyway\n",
    "\n",
    "**Find the name of the column with the most missing values. Then, drop it from the DataFrame.**<br>\n",
    "**Also, drop the ticket ticket column** because it's not useful to us.\n",
    "Once these columns are removed, **drop any rows that have NaN in the remaining columns**"
   ]
  },
  {
   "cell_type": "code",
   "execution_count": 3,
   "metadata": {},
   "outputs": [],
   "source": [
    "# TODO: find column with most missing values"
   ]
  },
  {
   "cell_type": "code",
   "execution_count": 4,
   "metadata": {},
   "outputs": [],
   "source": [
    "# TODO: drop column with most missing values and ticket column\n",
    "# TODO: drop any remaining rows with NaN "
   ]
  },
  {
   "cell_type": "markdown",
   "metadata": {},
   "source": [
    "<p style=\"font-family: Arial; font-size:1.3em;color:purple; font-style:bold\"><br>\n",
    "3: Do Some Visualizations</p>\n",
    "\n",
    "First, lets see how age and travel class are related.<br> \n",
    "<b>Build a <a href=\"https://matplotlib.org/api/_as_gen/matplotlib.pyplot.hist.html\">Matplotlib hisogram</a></b> for ages by first, second and third class tickets. For the histogram(s)\n",
    "<ul>\n",
    "    <li>x-axis is age</li>\n",
    "    <li>y-axis is occurences of passengers at that age in the given travel group</li>\n",
    "    <li>The number of buckets you choose for the histogram is up to you</li>\n",
    "</ul>\n",
    "\n",
    "*Note: Remember to title your plots and label all your axes!*"
   ]
  },
  {
   "cell_type": "code",
   "execution_count": 5,
   "metadata": {},
   "outputs": [],
   "source": [
    "# TODO: get ages of first, second and third class passengers\n",
    "# TODO: try plotting them on one histogram vs. three (the only difference is plt.show() in bewteen calls to hist())"
   ]
  },
  {
   "cell_type": "markdown",
   "metadata": {},
   "source": [
    "There were different locations from which passengers embarked. Build a <a href=\"https://matplotlib.org/api/_as_gen/matplotlib.pyplot.hist.html\">Matplotlib bar chart</a></b> where:<br>\n",
    "<ul>\n",
    "    <li>x-axis is location</li>\n",
    "    <li>y-axis is occurences of passengers embarking at that location</li>\n",
    "</ul>"
   ]
  },
  {
   "cell_type": "code",
   "execution_count": 6,
   "metadata": {},
   "outputs": [],
   "source": [
    "# TODO: Get # passengers embarked from each location\n",
    "# TODO: Plot the bar chart"
   ]
  },
  {
   "cell_type": "markdown",
   "metadata": {},
   "source": [
    "Time for a more morbid visualization. Build one <a href=\"https://matplotlib.org/api/_as_gen/matplotlib.pyplot.hist.html\">Matplotlib bar chart</a></b> that represents survival/casualty rates for males and females. This will requre you to plot 4 bars in total, where two bars will overlay the other two. The larger of each overlaid bar is the total count of that gender, and the smaller is the coun that survived.\n",
    "<ul>\n",
    "    <li>x-axis is gender</li>\n",
    "    <li>y-axis is # of passengers</li>\n",
    "    <li>2 bars for each gender<ul>\n",
    "        <li>One bar represents total # passengers</li>\n",
    "        <li>One bar represents # passengers that survived</li></ul>\n",
    "    </li>\n",
    "</ul>\n"
   ]
  },
  {
   "cell_type": "code",
   "execution_count": 7,
   "metadata": {},
   "outputs": [],
   "source": [
    "# TODO: get total male and female counts, get surviving male and female counts\n",
    "# TODO: Plot 4 bars"
   ]
  },
  {
   "cell_type": "markdown",
   "metadata": {},
   "source": [
    "<p style=\"font-family: Arial; font-size:1.3em;color:purple; font-style:bold\"><br>\n",
    "4: Predict survival</p>\n",
    "\n",
    "Separate the data into it's features and labels. Since we're trying to predict survival rate, the labels will be the survival column. The features we'll use will exclude the name, sex and embarked (think about why - there are different reasons for dropping name vs. dropping sex and embarked). Drop these two columns from your dataset. The result should be a (1309, 7) DataFrame called features and a (1309,) DataFrame called labels. "
   ]
  },
  {
   "cell_type": "code",
   "execution_count": 11,
   "metadata": {},
   "outputs": [],
   "source": [
    "# TODO: Drop name, sex, embarked\n",
    "# TODO: Create data df from remaining columns except survived \n",
    "# TODO: Create labels df from survived column"
   ]
  },
  {
   "cell_type": "markdown",
   "metadata": {},
   "source": [
    "Now, **split your labels and data each into a train and test portion**. Note that it's important that train features and train labels align perfectly (same for test features and labels). Let's use 80% of the data for training"
   ]
  },
  {
   "cell_type": "code",
   "execution_count": 12,
   "metadata": {},
   "outputs": [],
   "source": [
    "# TODO: Separate your dataframe into 80% train and 80% test"
   ]
  },
  {
   "cell_type": "markdown",
   "metadata": {},
   "source": [
    "Now, fit a classifier to your training data. Let's use <a href=\"http://scikit-learn.org/stable/modules/generated/sklearn.linear_model.LogisticRegression.html\">Logistic Regression</a>\n"
   ]
  },
  {
   "cell_type": "code",
   "execution_count": 13,
   "metadata": {},
   "outputs": [],
   "source": [
    "from sklearn.metrics import accuracy_score\n",
    "from sklearn.linear_model import LogisticRegression\n",
    "\n",
    "# TOOD: Instantiate a logistic regressor model\n",
    "# TOOD: Fit the model to your training data"
   ]
  },
  {
   "cell_type": "code",
   "execution_count": 14,
   "metadata": {},
   "outputs": [],
   "source": [
    "# TODO: Predict on your test data\n",
    "# TOOD: Calculate accuracy_score"
   ]
  }
 ],
 "metadata": {
  "anaconda-cloud": {},
  "kernelspec": {
   "display_name": "Python 3",
   "language": "python",
   "name": "python3"
  },
  "language_info": {
   "codemirror_mode": {
    "name": "ipython",
    "version": 3
   },
   "file_extension": ".py",
   "mimetype": "text/x-python",
   "name": "python",
   "nbconvert_exporter": "python",
   "pygments_lexer": "ipython3",
   "version": "3.8.3"
  }
 },
 "nbformat": 4,
 "nbformat_minor": 4
}
