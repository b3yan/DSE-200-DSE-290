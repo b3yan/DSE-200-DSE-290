{
 "cells": [
  {
   "cell_type": "markdown",
   "metadata": {},
   "source": [
    "# numpy Study Notebook\n",
    "\n",
    "# MAS DSE200"
   ]
  },
  {
   "cell_type": "markdown",
   "metadata": {},
   "source": [
    "### Data\n",
    "\n",
    "Download the `wine_data.csv` and `wine_modified.csv` data from Canvas and place the file in the same folder as this jupyter notebook."
   ]
  },
  {
   "cell_type": "code",
   "execution_count": 1,
   "metadata": {
    "ExecuteTime": {
     "end_time": "2020-10-13T23:44:24.478129Z",
     "start_time": "2020-10-13T23:44:24.275747Z"
    }
   },
   "outputs": [],
   "source": [
    "import numpy as np\n",
    "\n",
    "raw_data = np.genfromtxt('./wine_data.csv', delimiter=',')[1:]"
   ]
  },
  {
   "cell_type": "markdown",
   "metadata": {},
   "source": [
    "**Question 1**: Write code to find out how many unique classes are there in the dataset."
   ]
  },
  {
   "cell_type": "code",
   "execution_count": 2,
   "metadata": {
    "ExecuteTime": {
     "end_time": "2020-10-13T23:44:24.486202Z",
     "start_time": "2020-10-13T23:44:24.479938Z"
    }
   },
   "outputs": [
    {
     "data": {
      "text/plain": [
       "array([1., 2., 3.])"
      ]
     },
     "execution_count": 2,
     "metadata": {},
     "output_type": "execute_result"
    }
   ],
   "source": [
    "## SOLUTION 1\n",
    "np.unique(raw_data[:, -1])"
   ]
  },
  {
   "cell_type": "markdown",
   "metadata": {},
   "source": [
    "**Question 2**: Calculate the row-wise sum of the data."
   ]
  },
  {
   "cell_type": "code",
   "execution_count": 3,
   "metadata": {
    "ExecuteTime": {
     "end_time": "2020-10-13T23:44:24.491013Z",
     "start_time": "2020-10-13T23:44:24.487826Z"
    }
   },
   "outputs": [
    {
     "data": {
      "text/plain": [
       "array([ 671.31    ,  614.91    , 1461.      ,  428.88    , 1671.6     ,\n",
       "        570.3     ,  869.35    ,  666.42    ,  625.29    ,  527.67    ,\n",
       "       1142.64    , 1292.52    ,  878.19    ,  631.12    ,  643.34    ,\n",
       "        519.77    ,  659.51    ,  505.84    , 1702.52    ,  720.6     ,\n",
       "       1302.79    ,  589.55    ,  630.72    ,  608.74    , 1445.95    ,\n",
       "       1437.46    ,  611.059999, 1044.5     ,  966.36    , 1355.12    ,\n",
       "        827.59    , 1197.46    , 1616.23    ,  525.59    ,  927.08    ,\n",
       "        832.4     , 1248.08    ,  597.72    ,  700.57    ,  809.24    ,\n",
       "        524.49    ,  656.85    ,  458.7     ,  762.32    , 1413.44    ,\n",
       "        560.86    ,  827.85    ,  547.32    ,  723.56    ,  761.33    ,\n",
       "       1139.88    ,  413.33    ,  601.6     , 1428.11    , 1469.78    ,\n",
       "        697.57    ,  799.59    ,  714.3     ,  543.88    ,  498.54    ,\n",
       "       1021.236   , 1039.27    ,  747.92    ,  841.02    ,  673.33    ,\n",
       "        507.9     ,  915.92    , 1677.79    ,  921.95    , 1293.9     ,\n",
       "       1426.28    , 1195.1     ,  516.27    ,  637.38    ,  830.23    ,\n",
       "        656.41    ,  706.38    ,  453.9     ,  911.74    ,  831.01    ,\n",
       "        597.8     ,  995.46    , 1013.93    , 1021.28    ,  815.78    ,\n",
       "        940.76    ,  825.08    ,  721.66    ,  572.49    ,  465.1     ,\n",
       "        855.95    , 1076.61    , 1291.68    ,  684.17    ,  713.58    ,\n",
       "        639.76    , 1192.82    ,  652.03    , 1544.67    ,  909.69    ])"
      ]
     },
     "execution_count": 3,
     "metadata": {},
     "output_type": "execute_result"
    }
   ],
   "source": [
    "## SOLUTION 2\n",
    "raw_data.sum(axis=1)"
   ]
  },
  {
   "cell_type": "markdown",
   "metadata": {},
   "source": [
    "**Question 3**: Calculate the column-wise mean of the data."
   ]
  },
  {
   "cell_type": "code",
   "execution_count": 4,
   "metadata": {
    "ExecuteTime": {
     "end_time": "2020-10-13T23:44:24.495608Z",
     "start_time": "2020-10-13T23:44:24.492502Z"
    }
   },
   "outputs": [
    {
     "data": {
      "text/plain": [
       "array([1.29517000e+01, 2.36250000e+00, 2.32670000e+00, 1.93720000e+01,\n",
       "       9.80500000e+01, 2.25280000e+00, 1.98770000e+00, 3.68700000e-01,\n",
       "       1.59900000e+00, 4.99539999e+00, 9.73760000e-01, 2.60500000e+00,\n",
       "       7.17770000e+02, 1.94000000e+00])"
      ]
     },
     "execution_count": 4,
     "metadata": {},
     "output_type": "execute_result"
    }
   ],
   "source": [
    "## SOLUTION 3\n",
    "raw_data.mean(axis=0)"
   ]
  },
  {
   "cell_type": "markdown",
   "metadata": {},
   "source": [
    "**Question 4**: Calculate the class-wise mean and standard deviation of the each column."
   ]
  },
  {
   "cell_type": "code",
   "execution_count": 5,
   "metadata": {
    "ExecuteTime": {
     "end_time": "2020-10-13T23:44:24.512305Z",
     "start_time": "2020-10-13T23:44:24.496969Z"
    }
   },
   "outputs": [
    {
     "name": "stdout",
     "output_type": "stream",
     "text": [
      "Class 1: \n",
      "\tMean:  [1.37835484e+01 1.99774194e+00 2.43225806e+00 1.69645161e+01\n",
      " 1.05967742e+02 2.87806452e+00 3.01935484e+00 2.90000000e-01\n",
      " 2.00193548e+00 5.72774194e+00 1.06290323e+00 3.17129032e+00\n",
      " 1.12425806e+03 1.00000000e+00]\n",
      "\tSTD:  [4.83458964e-01 6.73032184e-01 2.43730545e-01 3.22085426e+00\n",
      " 1.03065400e+01 3.07523084e-01 3.90036685e-01 7.02529990e-02\n",
      " 4.26224379e-01 1.19693347e+00 1.04517125e-01 3.11994023e-01\n",
      " 2.33113010e+02 0.00000000e+00]\n",
      "\n",
      "Class 2: \n",
      "\tMean:  [1.22415909e+01 2.10977273e+00 2.18863636e+00 1.97909091e+01\n",
      " 9.16136364e+01 2.15227273e+00 1.93113636e+00 3.81136364e-01\n",
      " 1.55863636e+00 2.99909091e+00 1.07331818e+00 2.72613636e+00\n",
      " 4.85681818e+02 2.00000000e+00]\n",
      "\tSTD:  [4.80562848e-01 1.16372929e+00 2.97684938e-01 2.99369171e+00\n",
      " 1.29828837e+01 4.73112824e-01 5.66441106e-01 1.23052389e-01\n",
      " 6.10962694e-01 9.87360619e-01 2.23113890e-01 5.19589943e-01\n",
      " 1.30644168e+02 0.00000000e+00]\n",
      "\n",
      "Class 3: \n",
      "\tMean:  [1.31700000e+01 3.25960000e+00 2.43880000e+00 2.16200000e+01\n",
      " 9.95600000e+01 1.65440000e+00 8.08000000e-01 4.44400000e-01\n",
      " 1.17040000e+00 7.60079996e+00 6.88000000e-01 1.68960000e+00\n",
      " 6.22200000e+02 3.00000000e+00]\n",
      "\tSTD:  [5.66815667e-01 1.03045419e+00 1.81644048e-01 2.64680940e+00\n",
      " 1.05264619e+01 3.47264510e-01 3.12294733e-01 1.34939394e-01\n",
      " 4.42207915e-01 2.37146182e+00 1.07777549e-01 2.70281039e-01\n",
      " 1.18727250e+02 0.00000000e+00]\n"
     ]
    }
   ],
   "source": [
    "## SOLUTION 4\n",
    "print(\"Class 1: \")\n",
    "print(\"\\tMean: \", raw_data[raw_data[:, -1] == 1].mean(axis=0))\n",
    "print(\"\\tSTD: \", raw_data[raw_data[:, -1] == 1].std(axis=0))\n",
    "\n",
    "print(\"\\nClass 2: \")\n",
    "print(\"\\tMean: \", raw_data[raw_data[:, -1] == 2].mean(axis=0))\n",
    "print(\"\\tSTD: \", raw_data[raw_data[:, -1] == 2].std(axis=0))\n",
    "\n",
    "print(\"\\nClass 3: \")\n",
    "print(\"\\tMean: \", raw_data[raw_data[:, -1] == 3].mean(axis=0))\n",
    "print(\"\\tSTD: \", raw_data[raw_data[:, -1] == 3].std(axis=0))"
   ]
  },
  {
   "cell_type": "markdown",
   "metadata": {},
   "source": [
    "Use `wine_modified.csv` for the following questions."
   ]
  },
  {
   "cell_type": "code",
   "execution_count": 6,
   "metadata": {
    "ExecuteTime": {
     "end_time": "2020-10-13T23:44:24.518674Z",
     "start_time": "2020-10-13T23:44:24.514100Z"
    }
   },
   "outputs": [],
   "source": [
    "raw_data = np.genfromtxt('./wine_modified.csv', delimiter=',')[1:]\n",
    "\n",
    "columns = open('./wine_modified.csv', 'r').readline().strip().split(',')"
   ]
  },
  {
   "cell_type": "markdown",
   "metadata": {},
   "source": [
    "**Question 5**: Remove the rows with missing labels (’class’) and rows with more than 7 missing features. Report the remaining number of rows."
   ]
  },
  {
   "cell_type": "code",
   "execution_count": 7,
   "metadata": {
    "ExecuteTime": {
     "end_time": "2020-10-13T23:44:24.557224Z",
     "start_time": "2020-10-13T23:44:24.554087Z"
    }
   },
   "outputs": [
    {
     "data": {
      "text/plain": [
       "154"
      ]
     },
     "execution_count": 7,
     "metadata": {},
     "output_type": "execute_result"
    }
   ],
   "source": [
    "## SOLUTION 5\n",
    "\n",
    "# remove the rows with more than 7 missing features\n",
    "raw_data = raw_data[np.isnan(raw_data).sum(axis=1)<=7]\n",
    "\n",
    "# remove the rows with missing labels\n",
    "raw_data = raw_data[~np.isnan(raw_data[:, columns.index('class')])]\n",
    "\n",
    "# get the number of rows\n",
    "raw_data.shape[0]"
   ]
  },
  {
   "cell_type": "markdown",
   "metadata": {},
   "source": [
    "**Question 6**: Remove features with >50% of missing values. For other features with missing values fill them with the mean of the corresponding features. Report the removed features (if any) and standard deviation of features with missing values after filling."
   ]
  },
  {
   "cell_type": "code",
   "execution_count": 8,
   "metadata": {
    "ExecuteTime": {
     "end_time": "2020-10-13T23:44:24.635855Z",
     "start_time": "2020-10-13T23:44:24.620595Z"
    }
   },
   "outputs": [
    {
     "name": "stdout",
     "output_type": "stream",
     "text": [
      "Removed columns:  [3]\n",
      "Removed features:  ['Ash']\n",
      "Standard deviation for feature ( Magnesium ):  14.393416666995842\n",
      "Standard deviation for feature ( Flavanoids ):  0.8707323233936536\n"
     ]
    }
   ],
   "source": [
    "## SOLUTION 6\n",
    "\n",
    "# get columns with > 50% missing values\n",
    "remove_columns = np.where(np.isnan(raw_data).sum(axis=0) > (raw_data.shape[0] / 2))[0]\n",
    "print(\"Removed columns: \", remove_columns)\n",
    "print(\"Removed features: \", [columns[i] for i in remove_columns])\n",
    "\n",
    "# bookkeeping\n",
    "for column in remove_columns:\n",
    "    del columns[column]\n",
    "\n",
    "# remove those columns\n",
    "raw_data = np.delete(raw_data, remove_columns, axis=1)\n",
    "\n",
    "# get column with missing values\n",
    "null_columns = np.where(np.isnan(raw_data).sum(axis=0) > 0)[0]\n",
    "\n",
    "# Obtain mean of columns as you need, nanmean is just convenient.\n",
    "col_mean = np.nanmean(raw_data, axis=0)\n",
    "\n",
    "# Find indices that you need to replace\n",
    "inds = np.where(np.isnan(raw_data))\n",
    "\n",
    "# Place column means in the indices. Align the arrays using take\n",
    "raw_data[inds] = np.take(col_mean, inds[1])\n",
    "\n",
    "for i in null_columns:\n",
    "    print(\"Standard deviation for feature (\", columns[i], \"): \", raw_data[:, i].std(axis=0))"
   ]
  },
  {
   "cell_type": "markdown",
   "metadata": {},
   "source": [
    "**Question 7**: Detect and remove rows with any outliers/incorrect values in features ’alcohol’ and ’proline’ (if any). Clearly state the basis of your removal in comments."
   ]
  },
  {
   "cell_type": "code",
   "execution_count": 9,
   "metadata": {
    "ExecuteTime": {
     "end_time": "2020-10-13T23:44:24.704591Z",
     "start_time": "2020-10-13T23:44:24.701227Z"
    }
   },
   "outputs": [],
   "source": [
    "## SOLUTION 7\n",
    "\n",
    "# get feature indices\n",
    "features = np.array([columns.index(feat_name) for feat_name in ['Alcohol', 'Proline']])\n",
    "\n",
    "# get mean and std for columns\n",
    "mu, sigma = np.mean(raw_data[:, features], axis=0), np.std(raw_data[:, features], axis=0, ddof=1)\n",
    "\n",
    "# remove rows with outliers\n",
    "raw_data = raw_data[np.all(np.abs((raw_data[:, features] - mu) / sigma) < 1, axis=1)].shape"
   ]
  },
  {
   "cell_type": "code",
   "execution_count": null,
   "metadata": {},
   "outputs": [],
   "source": []
  }
 ],
 "metadata": {
  "hide_input": false,
  "kernelspec": {
   "display_name": "Python 3",
   "language": "python",
   "name": "python3"
  },
  "language_info": {
   "codemirror_mode": {
    "name": "ipython",
    "version": 3
   },
   "file_extension": ".py",
   "mimetype": "text/x-python",
   "name": "python",
   "nbconvert_exporter": "python",
   "pygments_lexer": "ipython3",
   "version": "3.8.5"
  },
  "nbTranslate": {
   "displayLangs": [
    "*"
   ],
   "hotkey": "alt-t",
   "langInMainMenu": true,
   "sourceLang": "en",
   "targetLang": "fr",
   "useGoogleTranslate": true
  },
  "toc": {
   "base_numbering": 1,
   "nav_menu": {},
   "number_sections": true,
   "sideBar": true,
   "skip_h1_title": false,
   "title_cell": "Table of Contents",
   "title_sidebar": "Contents",
   "toc_cell": false,
   "toc_position": {},
   "toc_section_display": true,
   "toc_window_display": false
  },
  "varInspector": {
   "cols": {
    "lenName": 16,
    "lenType": 16,
    "lenVar": 40
   },
   "kernels_config": {
    "python": {
     "delete_cmd_postfix": "",
     "delete_cmd_prefix": "del ",
     "library": "var_list.py",
     "varRefreshCmd": "print(var_dic_list())"
    },
    "r": {
     "delete_cmd_postfix": ") ",
     "delete_cmd_prefix": "rm(",
     "library": "var_list.r",
     "varRefreshCmd": "cat(var_dic_list()) "
    }
   },
   "types_to_exclude": [
    "module",
    "function",
    "builtin_function_or_method",
    "instance",
    "_Feature"
   ],
   "window_display": false
  }
 },
 "nbformat": 4,
 "nbformat_minor": 4
}
