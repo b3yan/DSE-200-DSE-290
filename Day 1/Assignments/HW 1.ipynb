{
 "cells": [
  {
   "cell_type": "markdown",
   "metadata": {},
   "source": [
    "# Assignment 1\n",
    "\n",
    "# MAS DSE200"
   ]
  },
  {
   "cell_type": "markdown",
   "metadata": {},
   "source": [
    "## Instructions\n",
    "\n",
    "* The homework should be submitted via Canvas.\n",
    "* You don’t need to explain your approach (unless specified) so please be concise in your submission. \n",
    "* To obtain full marks for a question, both the answer and the code should be correct. \n",
    "* Completely wrong (or missing) code with correct answer will result in zero marks. \n",
    "* Please code the solution in the space provided."
   ]
  },
  {
   "cell_type": "markdown",
   "metadata": {},
   "source": [
    "### 1.  Write a program to swap a string and an int variable and print their data types to verify the swapping operation\n",
    "\n",
    "* Initialize 2 variables my_int = 5 , and my_str = \"Hi\"\n",
    "* Swap these variables such that my_int now holds the value of my_str and vice versa\n",
    "* Verify this by printing their data types"
   ]
  },
  {
   "cell_type": "code",
   "execution_count": null,
   "metadata": {},
   "outputs": [],
   "source": [
    "# COMPLETE THE CELL BELOW\n",
    "\n",
    "my_int =\n",
    "my_str =\n",
    "\n",
    "\n",
    "print (\"Value of my_int = \", )\n",
    "print (\"Data type of my_int = \", )\n",
    "print (\"Value of my_str = \", )\n",
    "print (\"Data type of my_str = \", )"
   ]
  },
  {
   "cell_type": "markdown",
   "metadata": {},
   "source": [
    "### 2. Write a Python Program to Calculate the length of the diagonal of a rectangle\n",
    "\n",
    "* Initialize the 2 sides of the rectangle a and b to 5 and 6\n",
    "* Calculate the length of the diagonal using the formula - diagonal = √(a^2 + b^2)"
   ]
  },
  {
   "cell_type": "code",
   "execution_count": null,
   "metadata": {},
   "outputs": [],
   "source": [
    "# COMPLETE THE CELL BELOW \n",
    "\n",
    "a = \n",
    "b = \n",
    "\n",
    "diagonal = # calculate the diagonal length\n",
    "\n",
    "print('The length of the diagonal of the rectangle is %0.2f' %diagonal)"
   ]
  },
  {
   "cell_type": "markdown",
   "metadata": {},
   "source": [
    "### 3. Write a Python Program to Check if a Number is divisible by 3\n",
    "\n",
    "* Initialize a variable that takes input from user\n",
    "* Check and print if the number is divisible by 3"
   ]
  },
  {
   "cell_type": "code",
   "execution_count": null,
   "metadata": {},
   "outputs": [],
   "source": [
    "# COMPLETE CELL BELOW\n",
    "\n",
    "num = # Take input from user \n",
    "\n",
    "# Check if the number is divisible by 3\n"
   ]
  },
  {
   "cell_type": "markdown",
   "metadata": {},
   "source": [
    "### 4. Write a Python Program to Check if a number has exactly 3 digits(no zeros allowed at the beginning and the number can be assumed to be positive)\n",
    "\n",
    "* Initialize a variable that takes input from user(input will be given as a string)\n",
    "* Check and print if the number has exactly 3 digits(no zeros allowed at the beginning)\n",
    "* Read about type casting in python and use type casting from string to int"
   ]
  },
  {
   "cell_type": "code",
   "execution_count": null,
   "metadata": {},
   "outputs": [],
   "source": [
    "# COMPLETE THE CELL BELOW\n",
    "\n",
    "num = # Take input from user\n",
    "\n",
    "# Check if the number has exactly 3 digits"
   ]
  },
  {
   "cell_type": "markdown",
   "metadata": {},
   "source": [
    "### 5. Write a Python Program to Check Whether a String is Palindrome or Not\n",
    "\n",
    "* Initialize a string\n",
    "* Lower case it to allow easy comparison\n",
    "* Check using if-else statements if the string is a palindrome \n",
    "* A palindrome is a string which is same read forward or backwards."
   ]
  },
  {
   "cell_type": "code",
   "execution_count": null,
   "metadata": {},
   "outputs": [],
   "source": [
    "# COMPLETE CELL BELOW \n",
    "\n",
    "my_str = 'aIbohPhoBiA' # change this value for a different output"
   ]
  },
  {
   "cell_type": "markdown",
   "metadata": {},
   "source": [
    "### 6.  **Print numbers divisible by 5 between 4 and 30, inclusive**\n",
    "\n",
    "* Iterate through the numbers in the for loop and notice the way range has been used to generate numbers in the for loop\n",
    "* Print only the numbers divisible by 5 using if statement"
   ]
  },
  {
   "cell_type": "code",
   "execution_count": null,
   "metadata": {},
   "outputs": [],
   "source": [
    "# COMPLETE THE CELL BELOW \n",
    "\n",
    "limit = range(4,31)\n",
    "for number in limit: # Complete the loop\n",
    "    "
   ]
  },
  {
   "cell_type": "markdown",
   "metadata": {},
   "source": [
    "### 7. Write a Python Program to print the first n numbers of the Fibonacci series starting from 0\n",
    "\n",
    "* Initialize a variable n that denotes the number of elements of the Fibonacci series to be computed\n",
    "* Use a loop to print the first n numbers of the Fibonacci series: 0,1,1,2,3,....\n"
   ]
  },
  {
   "cell_type": "code",
   "execution_count": null,
   "metadata": {},
   "outputs": [],
   "source": [
    "# COMPLETE CELL BELOW\n",
    "\n",
    "n = 5"
   ]
  },
  {
   "cell_type": "markdown",
   "metadata": {},
   "source": [
    "### 8. Write a Python Program that defines a function to Remove Vowels From a String\n",
    "\n",
    "* You can initialize a string of your choice \n",
    "* Define the function \n",
    "* Use a for loop to remove vowels"
   ]
  },
  {
   "cell_type": "code",
   "execution_count": 1,
   "metadata": {},
   "outputs": [
    {
     "ename": "IndentationError",
     "evalue": "expected an indented block (<ipython-input-1-49ad19a484b8>, line 7)",
     "output_type": "error",
     "traceback": [
      "\u001b[0;36m  File \u001b[0;32m\"<ipython-input-1-49ad19a484b8>\"\u001b[0;36m, line \u001b[0;32m7\u001b[0m\n\u001b[0;31m    my_str = \"Hello, how are you?. I hope you are doing well.\"\u001b[0m\n\u001b[0m    ^\u001b[0m\n\u001b[0;31mIndentationError\u001b[0m\u001b[0;31m:\u001b[0m expected an indented block\n"
     ]
    }
   ],
   "source": [
    "# COMPLETE THE CELL BELOW \n",
    "\n",
    "vowels = '''aeiouAEIOU''' # define vowels\n",
    "\n",
    "def removeVowel(s): # Complete the function using a for loop\n",
    "\n",
    "my_str = \"Hello, how are you?. I hope you are doing well.\"\n",
    "# my_str = input(\"Enter a string: \") # To take input from the user\n",
    "\n",
    "print (removeVowel(my_str))"
   ]
  },
  {
   "cell_type": "markdown",
   "metadata": {},
   "source": [
    "### 9. **Write a program to define a function that takes two numbers as arguments and returns the sum of all numbers between the arguments passed (exclusive, i.e. excluding the limits)**\n",
    "\n",
    "* You can define a range of your choice\n",
    "* Define the function \n",
    "* Use a for loop to add numbers within the range(exclusive)"
   ]
  },
  {
   "cell_type": "code",
   "execution_count": null,
   "metadata": {},
   "outputs": [],
   "source": [
    "# COMPLETE THE CELL BELOW\n",
    "\n",
    "def sum(a, b): # Complete the function using a for loop and use range() to iterate over the numbers\n",
    "\n",
    "a = 5\n",
    "b = 10\n",
    "total = sum(a, b)\n",
    "print (\"Result is\", total)"
   ]
  },
  {
   "cell_type": "markdown",
   "metadata": {},
   "source": [
    "### 10. Define a class named Triangle that can calculate the area\n",
    "\n",
    "* The class can be constructed by the length of the sides\n",
    "* The class has a method which can compute the area using the formula area = √(s(s-a)(s-b)(s-c)) where s=(a+b+c)/2 is the semi-perimeter"
   ]
  },
  {
   "cell_type": "code",
   "execution_count": null,
   "metadata": {},
   "outputs": [],
   "source": [
    "# COMPLETE CELL BELOW \n",
    "\n",
    "class Triangle:"
   ]
  }
 ],
 "metadata": {
  "kernelspec": {
   "display_name": "Python 3",
   "language": "python",
   "name": "python3"
  },
  "language_info": {
   "codemirror_mode": {
    "name": "ipython",
    "version": 3
   },
   "file_extension": ".py",
   "mimetype": "text/x-python",
   "name": "python",
   "nbconvert_exporter": "python",
   "pygments_lexer": "ipython3",
   "version": "3.8.5"
  }
 },
 "nbformat": 4,
 "nbformat_minor": 4
}
